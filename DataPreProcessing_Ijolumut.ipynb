{
 "cells": [
  {
   "cell_type": "markdown",
   "metadata": {
    "id": "5XABG6gNqAAO"
   },
   "source": [
    "# Library"
   ]
  },
  {
   "cell_type": "code",
   "execution_count": 1,
   "metadata": {
    "id": "wygEe1mZq5Ew"
   },
   "outputs": [],
   "source": [
    "import numpy as np\n",
    "import pandas as pd\n",
    "import matplotlib.pyplot as plt\n",
    "import seaborn as sns\n",
    "from matplotlib import rcParams"
   ]
  },
  {
   "cell_type": "markdown",
   "metadata": {
    "id": "6lhLPtc2q26D"
   },
   "source": [
    "# Dataset"
   ]
  },
  {
   "cell_type": "code",
   "execution_count": 2,
   "metadata": {
    "colab": {
     "base_uri": "https://localhost:8080/"
    },
    "id": "dqaGp5Qxqvsc",
    "outputId": "4db42f13-db11-4e63-c56c-ab252c8b8d4c"
   },
   "outputs": [],
   "source": [
    "df = pd.read_csv('online_shoppers_intention.csv')"
   ]
  },
  {
   "cell_type": "code",
   "execution_count": 3,
   "metadata": {
    "id": "_9CEOuw6rDEI"
   },
   "outputs": [],
   "source": [
    "df = pd.read_csv('online_shoppers_intention.csv')\n",
    "raw = df.copy()"
   ]
  },
  {
   "cell_type": "code",
   "execution_count": 4,
   "metadata": {
    "colab": {
     "base_uri": "https://localhost:8080/",
     "height": 270
    },
    "id": "Hi9mMK8Lr-iy",
    "outputId": "6b20a2b3-942e-4e98-d125-3e690ff62781"
   },
   "outputs": [
    {
     "data": {
      "text/html": [
       "<div>\n",
       "<style scoped>\n",
       "    .dataframe tbody tr th:only-of-type {\n",
       "        vertical-align: middle;\n",
       "    }\n",
       "\n",
       "    .dataframe tbody tr th {\n",
       "        vertical-align: top;\n",
       "    }\n",
       "\n",
       "    .dataframe thead th {\n",
       "        text-align: right;\n",
       "    }\n",
       "</style>\n",
       "<table border=\"1\" class=\"dataframe\">\n",
       "  <thead>\n",
       "    <tr style=\"text-align: right;\">\n",
       "      <th></th>\n",
       "      <th>Administrative</th>\n",
       "      <th>Administrative_Duration</th>\n",
       "      <th>Informational</th>\n",
       "      <th>Informational_Duration</th>\n",
       "      <th>ProductRelated</th>\n",
       "      <th>ProductRelated_Duration</th>\n",
       "      <th>BounceRates</th>\n",
       "      <th>ExitRates</th>\n",
       "      <th>PageValues</th>\n",
       "      <th>SpecialDay</th>\n",
       "      <th>Month</th>\n",
       "      <th>OperatingSystems</th>\n",
       "      <th>Browser</th>\n",
       "      <th>Region</th>\n",
       "      <th>TrafficType</th>\n",
       "      <th>VisitorType</th>\n",
       "      <th>Weekend</th>\n",
       "      <th>Revenue</th>\n",
       "    </tr>\n",
       "  </thead>\n",
       "  <tbody>\n",
       "    <tr>\n",
       "      <th>11021</th>\n",
       "      <td>0</td>\n",
       "      <td>0.000000</td>\n",
       "      <td>0</td>\n",
       "      <td>0.0</td>\n",
       "      <td>11</td>\n",
       "      <td>357.000000</td>\n",
       "      <td>0.018182</td>\n",
       "      <td>0.036364</td>\n",
       "      <td>0.000000</td>\n",
       "      <td>0.0</td>\n",
       "      <td>Dec</td>\n",
       "      <td>2</td>\n",
       "      <td>2</td>\n",
       "      <td>7</td>\n",
       "      <td>2</td>\n",
       "      <td>Returning_Visitor</td>\n",
       "      <td>True</td>\n",
       "      <td>False</td>\n",
       "    </tr>\n",
       "    <tr>\n",
       "      <th>1124</th>\n",
       "      <td>0</td>\n",
       "      <td>0.000000</td>\n",
       "      <td>0</td>\n",
       "      <td>0.0</td>\n",
       "      <td>3</td>\n",
       "      <td>514.000000</td>\n",
       "      <td>0.000000</td>\n",
       "      <td>0.066667</td>\n",
       "      <td>0.000000</td>\n",
       "      <td>0.0</td>\n",
       "      <td>Mar</td>\n",
       "      <td>2</td>\n",
       "      <td>2</td>\n",
       "      <td>3</td>\n",
       "      <td>1</td>\n",
       "      <td>Returning_Visitor</td>\n",
       "      <td>False</td>\n",
       "      <td>False</td>\n",
       "    </tr>\n",
       "    <tr>\n",
       "      <th>5381</th>\n",
       "      <td>7</td>\n",
       "      <td>52.400000</td>\n",
       "      <td>3</td>\n",
       "      <td>202.5</td>\n",
       "      <td>55</td>\n",
       "      <td>1995.466667</td>\n",
       "      <td>0.003333</td>\n",
       "      <td>0.025397</td>\n",
       "      <td>1.831500</td>\n",
       "      <td>0.0</td>\n",
       "      <td>May</td>\n",
       "      <td>2</td>\n",
       "      <td>2</td>\n",
       "      <td>6</td>\n",
       "      <td>13</td>\n",
       "      <td>Returning_Visitor</td>\n",
       "      <td>False</td>\n",
       "      <td>False</td>\n",
       "    </tr>\n",
       "    <tr>\n",
       "      <th>9826</th>\n",
       "      <td>0</td>\n",
       "      <td>0.000000</td>\n",
       "      <td>0</td>\n",
       "      <td>0.0</td>\n",
       "      <td>16</td>\n",
       "      <td>423.183333</td>\n",
       "      <td>0.012500</td>\n",
       "      <td>0.016071</td>\n",
       "      <td>0.000000</td>\n",
       "      <td>0.0</td>\n",
       "      <td>Nov</td>\n",
       "      <td>3</td>\n",
       "      <td>2</td>\n",
       "      <td>7</td>\n",
       "      <td>10</td>\n",
       "      <td>Returning_Visitor</td>\n",
       "      <td>False</td>\n",
       "      <td>False</td>\n",
       "    </tr>\n",
       "    <tr>\n",
       "      <th>384</th>\n",
       "      <td>9</td>\n",
       "      <td>213.321429</td>\n",
       "      <td>5</td>\n",
       "      <td>528.0</td>\n",
       "      <td>61</td>\n",
       "      <td>2258.430586</td>\n",
       "      <td>0.010000</td>\n",
       "      <td>0.020655</td>\n",
       "      <td>2.810812</td>\n",
       "      <td>0.0</td>\n",
       "      <td>Mar</td>\n",
       "      <td>1</td>\n",
       "      <td>1</td>\n",
       "      <td>4</td>\n",
       "      <td>2</td>\n",
       "      <td>Returning_Visitor</td>\n",
       "      <td>False</td>\n",
       "      <td>False</td>\n",
       "    </tr>\n",
       "  </tbody>\n",
       "</table>\n",
       "</div>"
      ],
      "text/plain": [
       "       Administrative  Administrative_Duration  Informational  \\\n",
       "11021               0                 0.000000              0   \n",
       "1124                0                 0.000000              0   \n",
       "5381                7                52.400000              3   \n",
       "9826                0                 0.000000              0   \n",
       "384                 9               213.321429              5   \n",
       "\n",
       "       Informational_Duration  ProductRelated  ProductRelated_Duration  \\\n",
       "11021                     0.0              11               357.000000   \n",
       "1124                      0.0               3               514.000000   \n",
       "5381                    202.5              55              1995.466667   \n",
       "9826                      0.0              16               423.183333   \n",
       "384                     528.0              61              2258.430586   \n",
       "\n",
       "       BounceRates  ExitRates  PageValues  SpecialDay Month  OperatingSystems  \\\n",
       "11021     0.018182   0.036364    0.000000         0.0   Dec                 2   \n",
       "1124      0.000000   0.066667    0.000000         0.0   Mar                 2   \n",
       "5381      0.003333   0.025397    1.831500         0.0   May                 2   \n",
       "9826      0.012500   0.016071    0.000000         0.0   Nov                 3   \n",
       "384       0.010000   0.020655    2.810812         0.0   Mar                 1   \n",
       "\n",
       "       Browser  Region  TrafficType        VisitorType  Weekend  Revenue  \n",
       "11021        2       7            2  Returning_Visitor     True    False  \n",
       "1124         2       3            1  Returning_Visitor    False    False  \n",
       "5381         2       6           13  Returning_Visitor    False    False  \n",
       "9826         2       7           10  Returning_Visitor    False    False  \n",
       "384          1       4            2  Returning_Visitor    False    False  "
      ]
     },
     "execution_count": 4,
     "metadata": {},
     "output_type": "execute_result"
    }
   ],
   "source": [
    "df.sample(5)"
   ]
  },
  {
   "cell_type": "markdown",
   "metadata": {
    "id": "G8fwqrXGqFUT"
   },
   "source": [
    "# Data Cleaning <br>"
   ]
  },
  {
   "cell_type": "markdown",
   "metadata": {
    "id": "tEuyucIFZ1Wk"
   },
   "source": [
    "## Missing values"
   ]
  },
  {
   "cell_type": "code",
   "execution_count": 5,
   "metadata": {
    "colab": {
     "base_uri": "https://localhost:8080/"
    },
    "id": "tKpZQ0kuZ5hD",
    "outputId": "1f06f696-7ded-4c29-9579-6ad51ed06426"
   },
   "outputs": [
    {
     "data": {
      "text/plain": [
       "Administrative             0\n",
       "Administrative_Duration    0\n",
       "Informational              0\n",
       "Informational_Duration     0\n",
       "ProductRelated             0\n",
       "ProductRelated_Duration    0\n",
       "BounceRates                0\n",
       "ExitRates                  0\n",
       "PageValues                 0\n",
       "SpecialDay                 0\n",
       "Month                      0\n",
       "OperatingSystems           0\n",
       "Browser                    0\n",
       "Region                     0\n",
       "TrafficType                0\n",
       "VisitorType                0\n",
       "Weekend                    0\n",
       "Revenue                    0\n",
       "dtype: int64"
      ]
     },
     "execution_count": 5,
     "metadata": {},
     "output_type": "execute_result"
    }
   ],
   "source": [
    "df.isna().sum()"
   ]
  },
  {
   "cell_type": "markdown",
   "metadata": {
    "id": "nDJPOGWAZ-b4"
   },
   "source": [
    "Tidak ada feature yang memiliki data hilang."
   ]
  },
  {
   "cell_type": "markdown",
   "metadata": {
    "id": "eGpGX4THaDaV"
   },
   "source": [
    "## Duplicated data"
   ]
  },
  {
   "cell_type": "code",
   "execution_count": 6,
   "metadata": {
    "colab": {
     "base_uri": "https://localhost:8080/"
    },
    "id": "teoyRS8VcbYx",
    "outputId": "83e3517c-21fa-4e2d-fc89-1e08aaa616d8"
   },
   "outputs": [
    {
     "name": "stdout",
     "output_type": "stream",
     "text": [
      "Jumlah row duplicated sebelum dihapus: 125\n",
      "Jumlah row duplicated SETELAH dihapus: 0\n"
     ]
    }
   ],
   "source": [
    "print(f'Jumlah row duplicated sebelum dihapus: {df.duplicated().sum()}')\n",
    "\n",
    "# drop duplicated rows\n",
    "df.drop_duplicates(inplace=True)   # keep = 'First'\n",
    "print(f'Jumlah row duplicated SETELAH dihapus: {df.duplicated().sum()}')"
   ]
  },
  {
   "cell_type": "code",
   "execution_count": 7,
   "metadata": {
    "colab": {
     "base_uri": "https://localhost:8080/"
    },
    "id": "nh5xZKwv-n72",
    "outputId": "12bd01d4-42d0-4873-862a-c8d43142de6f"
   },
   "outputs": [
    {
     "name": "stdout",
     "output_type": "stream",
     "text": [
      "Jumlah row dataset setelah drop row duplicated: 12205\n",
      "Persentase drop data duplicate: 1.01%\n"
     ]
    }
   ],
   "source": [
    "# persentase data duplicate yang di drop\n",
    "\n",
    "print(f'Jumlah row dataset setelah drop row duplicated: {len(df)}')\n",
    "print(f'Persentase drop data duplicate: {round(((len(raw)-len(df))/len(raw))*100, 2)}%')\n"
   ]
  },
  {
   "cell_type": "code",
   "execution_count": 8,
   "metadata": {
    "id": "273s_MLKpMJN"
   },
   "outputs": [],
   "source": [
    "no_duplicates = df.copy()"
   ]
  },
  {
   "cell_type": "markdown",
   "metadata": {
    "id": "fov3aZr5e-gJ"
   },
   "source": [
    "* Dataset memiliki 125 row duplicated (1.01% data asli).\n",
    "* Menghindari redundan info, dilakukan drop duplicates, sehingga total row pada dataset: 12205"
   ]
  },
  {
   "cell_type": "markdown",
   "metadata": {
    "id": "6_vOlmaBfHlJ"
   },
   "source": [
    "## Outliers"
   ]
  },
  {
   "cell_type": "code",
   "execution_count": 9,
   "metadata": {
    "id": "r8UA-jxspg-m"
   },
   "outputs": [],
   "source": [
    "# pakai raw data\n",
    "# df = raw.copy()\n",
    "\n",
    "# pakai data tanpa nilai duplicate\n",
    "df = no_duplicates.copy()"
   ]
  },
  {
   "cell_type": "code",
   "execution_count": 10,
   "metadata": {
    "id": "ykIBNpMEBm0D"
   },
   "outputs": [],
   "source": [
    "# pengelompokkan berdasarkan jenisnya\n",
    "numericals   = ['Administrative', 'Administrative_Duration', 'Informational', 'Informational_Duration', 'ProductRelated', \n",
    "                'ProductRelated_Duration', 'BounceRates', 'ExitRates', 'PageValues', 'SpecialDay']\n",
    "categoricals = ['OperatingSystems', 'Browser', 'Region', 'TrafficType', 'VisitorType', 'Weekend', 'Revenue']\n",
    "timestamps   = ['Month']"
   ]
  },
  {
   "cell_type": "code",
   "execution_count": 11,
   "metadata": {
    "colab": {
     "base_uri": "https://localhost:8080/"
    },
    "id": "Ab-TXzkQRyPP",
    "outputId": "38ca6984-baa6-412f-b51f-6dfd8139f2f2"
   },
   "outputs": [
    {
     "name": "stdout",
     "output_type": "stream",
     "text": [
      "Jumlah outlier IQR Administrative: 404\n",
      "Jumlah outlier IQR Administrative_Duration: 1149\n",
      "Jumlah outlier IQR Informational: 2631\n",
      "Jumlah outlier IQR Informational_Duration: 2405\n",
      "Jumlah outlier IQR ProductRelated: 1007\n",
      "Jumlah outlier IQR ProductRelated_Duration: 951\n",
      "Jumlah outlier IQR BounceRates: 1428\n",
      "Jumlah outlier IQR ExitRates: 1325\n",
      "Jumlah outlier IQR PageValues: 2730\n",
      "Jumlah outlier IQR SpecialDay: 1249\n"
     ]
    }
   ],
   "source": [
    "### outlier check\n",
    "\n",
    "# IQR function \n",
    "def IQR(x):\n",
    "  q1 = np.percentile(x, 25)\n",
    "  q3 = np.percentile(x, 75)\n",
    "  \n",
    "  bb = q1 - 1.5*(q3 - q1)\n",
    "  ba = q3 + 1.5*(q3 - q1)\n",
    "\n",
    "  outlier_indices = list(x.index[(x < bb) | (x > ba)])\n",
    "  outlier_values = list(x[outlier_indices])\n",
    "\n",
    "  return len(outlier_indices)\n",
    "\n",
    "# IQR Method\n",
    "for i in numericals:\n",
    "  print(f'Jumlah outlier IQR {i}: {IQR(df[i])}')"
   ]
  },
  {
   "cell_type": "markdown",
   "metadata": {
    "id": "TAtpewxra9dM"
   },
   "source": [
    "Seluruh feature numerical memiliki outlier dengan jumlah yang cukup besar dengan 3 feature terbesar: PageValues (2730), Informational (2631), dan Informational_Duration (2405)."
   ]
  },
  {
   "cell_type": "code",
   "execution_count": 12,
   "metadata": {
    "colab": {
     "base_uri": "https://localhost:8080/",
     "height": 369
    },
    "id": "kupHQYCavd9o",
    "outputId": "3136791e-753b-47d4-c323-33dad51e3aca"
   },
   "outputs": [
    {
     "data": {
      "image/png": "[encoded data removed]",
      "text/plain": [
       "<Figure size 720x360 with 3 Axes>"
      ]
     },
     "metadata": {
      "needs_background": "light"
     },
     "output_type": "display_data"
    }
   ],
   "source": [
    "# cek boxplot\n",
    "rcParams['figure.figsize'] = 10, 5\n",
    "\n",
    "nodist = ['Informational', 'Informational_Duration', 'PageValues']\n",
    "for i in range (0, len (nodist)):\n",
    "    plt.subplot (1, 3, i+1)\n",
    "    sns.boxplot (y = df[nodist[i]], orient = 'v')\n",
    "    plt.tight_layout()"
   ]
  },
  {
   "cell_type": "markdown",
   "metadata": {
    "id": "l9s2hfgDbseY"
   },
   "source": [
    "Data berkumpul cukup banyak pada nilai nol, tidak terlihat distribusi dari masing-masing feature."
   ]
  },
  {
   "cell_type": "markdown",
   "metadata": {
    "id": "LsAFFeGy6Gzp"
   },
   "source": [
    "### Log Transformation <br>"
   ]
  },
  {
   "cell_type": "code",
   "execution_count": 13,
   "metadata": {
    "colab": {
     "base_uri": "https://localhost:8080/"
    },
    "id": "GxzSdOifIaX0",
    "outputId": "772c74cd-559f-4163-d8ed-b306780c34a8"
   },
   "outputs": [
    {
     "data": {
      "text/plain": [
       "Informational             4.014173\n",
       "Informational_Duration    7.540291\n",
       "PageValues                6.350983\n",
       "dtype: float64"
      ]
     },
     "execution_count": 13,
     "metadata": {},
     "output_type": "execute_result"
    }
   ],
   "source": [
    "df[nodist].skew()"
   ]
  },
  {
   "cell_type": "markdown",
   "metadata": {
    "id": "0HUDvijUcX3W"
   },
   "source": [
    "Nilai skew ketiga feature tersebut positif. Dapat ditinjau log transformationnya."
   ]
  },
  {
   "cell_type": "code",
   "execution_count": 14,
   "metadata": {
    "colab": {
     "base_uri": "https://localhost:8080/",
     "height": 1000
    },
    "id": "MCh5iMmX47Ml",
    "outputId": "9db4ac08-d886-49fc-c03e-3898d8acd0d7"
   },
   "outputs": [
    {
     "name": "stderr",
     "output_type": "stream",
     "text": [
      "C:\\Users\\angel\\anaconda3\\lib\\site-packages\\pandas\\core\\arraylike.py:358: RuntimeWarning: divide by zero encountered in log\n",
      "  result = getattr(ufunc, method)(*inputs, **kwargs)\n",
      "C:\\Users\\angel\\anaconda3\\lib\\site-packages\\seaborn\\distributions.py:306: UserWarning: Dataset has 0 variance; skipping density estimate.\n",
      "  warnings.warn(msg, UserWarning)\n",
      "C:\\Users\\angel\\anaconda3\\lib\\site-packages\\pandas\\core\\arraylike.py:358: RuntimeWarning: divide by zero encountered in log2\n",
      "  result = getattr(ufunc, method)(*inputs, **kwargs)\n",
      "C:\\Users\\angel\\anaconda3\\lib\\site-packages\\seaborn\\distributions.py:306: UserWarning: Dataset has 0 variance; skipping density estimate.\n",
      "  warnings.warn(msg, UserWarning)\n"
     ]
    },
    {
     "data": {
      "image/png": "[encoded data removed]",
      "text/plain": [
       "<Figure size 1440x360 with 4 Axes>"
      ]
     },
     "metadata": {
      "needs_background": "light"
     },
     "output_type": "display_data"
    },
    {
     "name": "stderr",
     "output_type": "stream",
     "text": [
      "C:\\Users\\angel\\anaconda3\\lib\\site-packages\\pandas\\core\\arraylike.py:358: RuntimeWarning: divide by zero encountered in log\n",
      "  result = getattr(ufunc, method)(*inputs, **kwargs)\n",
      "C:\\Users\\angel\\anaconda3\\lib\\site-packages\\seaborn\\distributions.py:306: UserWarning: Dataset has 0 variance; skipping density estimate.\n",
      "  warnings.warn(msg, UserWarning)\n",
      "C:\\Users\\angel\\anaconda3\\lib\\site-packages\\pandas\\core\\arraylike.py:358: RuntimeWarning: divide by zero encountered in log2\n",
      "  result = getattr(ufunc, method)(*inputs, **kwargs)\n",
      "C:\\Users\\angel\\anaconda3\\lib\\site-packages\\seaborn\\distributions.py:306: UserWarning: Dataset has 0 variance; skipping density estimate.\n",
      "  warnings.warn(msg, UserWarning)\n"
     ]
    },
    {
     "data": {
      "text/plain": [
       "<Figure size 1440x360 with 0 Axes>"
      ]
     },
     "metadata": {},
     "output_type": "display_data"
    },
    {
     "data": {
      "image/png": "[encoded data removed]",
      "text/plain": [
       "<Figure size 1440x360 with 4 Axes>"
      ]
     },
     "metadata": {
      "needs_background": "light"
     },
     "output_type": "display_data"
    },
    {
     "name": "stderr",
     "output_type": "stream",
     "text": [
      "C:\\Users\\angel\\anaconda3\\lib\\site-packages\\pandas\\core\\arraylike.py:358: RuntimeWarning: divide by zero encountered in log\n",
      "  result = getattr(ufunc, method)(*inputs, **kwargs)\n",
      "C:\\Users\\angel\\anaconda3\\lib\\site-packages\\seaborn\\distributions.py:306: UserWarning: Dataset has 0 variance; skipping density estimate.\n",
      "  warnings.warn(msg, UserWarning)\n",
      "C:\\Users\\angel\\anaconda3\\lib\\site-packages\\pandas\\core\\arraylike.py:358: RuntimeWarning: divide by zero encountered in log2\n",
      "  result = getattr(ufunc, method)(*inputs, **kwargs)\n",
      "C:\\Users\\angel\\anaconda3\\lib\\site-packages\\seaborn\\distributions.py:306: UserWarning: Dataset has 0 variance; skipping density estimate.\n",
      "  warnings.warn(msg, UserWarning)\n"
     ]
    },
    {
     "data": {
      "text/plain": [
       "<Figure size 1440x360 with 0 Axes>"
      ]
     },
     "metadata": {},
     "output_type": "display_data"
    },
    {
     "data": {
      "image/png": "[encoded data removed]",
      "text/plain": [
       "<Figure size 1440x360 with 4 Axes>"
      ]
     },
     "metadata": {
      "needs_background": "light"
     },
     "output_type": "display_data"
    },
    {
     "data": {
      "text/plain": [
       "<Figure size 1440x360 with 0 Axes>"
      ]
     },
     "metadata": {},
     "output_type": "display_data"
    }
   ],
   "source": [
    "# displot untuk feature numericals\n",
    "\n",
    "rcParams['figure.figsize'] = 20, 5\n",
    "for i in range (0, len (nodist)):\n",
    "    fig, (ax1, ax2, ax3, ax4) = plt.subplots(1, 4)\n",
    "    sns.kdeplot(x = df[nodist[i]], ax = ax1, linewidth = 3).set(title = f'Plot Distribusi {nodist[i]}')\n",
    "    sns.kdeplot(np.log1p(df[nodist[i]]), ax = ax2, color = 'red', linewidth = 3).set(title = f'Plot Distribusi (Log1p Transform) {nodist[i]}')\n",
    "    sns.kdeplot(np.log(df[nodist[i]]), ax = ax3, color = 'red', linewidth = 3).set(title = f'Plot Distribusi (Log Transform) {nodist[i]}')\n",
    "    sns.kdeplot(np.log2(df[nodist[i]]), ax = ax4, color = 'red', linewidth = 3).set(title = f'Plot Distribusi (Log2 Transform) {nodist[i]}')\n",
    "    plt.show()\n",
    "    plt.tight_layout()\n",
    "    fig.tight_layout(pad = 7)"
   ]
  },
  {
   "cell_type": "markdown",
   "metadata": {
    "id": "LDMyr4L00o7P"
   },
   "source": [
    "Hasil Log-Transformation untuk feature Informational_Duration dan PageValues menyerupai normal distribution. Namun transform menggunakan Log dan Log2 tidak berhasil untuk nilai data nol. Dipilih Log1p-Transformation."
   ]
  },
  {
   "cell_type": "code",
   "execution_count": 15,
   "metadata": {
    "id": "_xb3VCAN1YB4"
   },
   "outputs": [],
   "source": [
    "# log transformation\n",
    "df['log_Informational'] = np.log1p(df['Informational'])\n",
    "df['log_Informational_Duration'] = np.log1p(df['Informational_Duration'])\n",
    "df['log_PageValues'] = np.log1p(df['PageValues'])"
   ]
  },
  {
   "cell_type": "code",
   "execution_count": 16,
   "metadata": {
    "colab": {
     "base_uri": "https://localhost:8080/"
    },
    "id": "WhnCUNCP3isc",
    "outputId": "462cbb1a-5b05-4a03-8c0c-af0dde7d11a1"
   },
   "outputs": [
    {
     "name": "stdout",
     "output_type": "stream",
     "text": [
      "Jumlah outlier IQR log_Informational: 2631\n",
      "Jumlah outlier IQR log_Informational_Duration: 2405\n",
      "Jumlah outlier IQR log_PageValues: 2730\n"
     ]
    }
   ],
   "source": [
    "# IQR Method\n",
    "log = ['log_Informational', 'log_Informational_Duration', 'log_PageValues']\n",
    "for i in log:\n",
    "  print(f'Jumlah outlier IQR {i}: {IQR(df[i])}')"
   ]
  },
  {
   "cell_type": "markdown",
   "metadata": {
    "id": "mvfVXeZBdoqV"
   },
   "source": [
    "Jumlah outlier tidak berkurang setelah dilakukan Log1p-Transformation"
   ]
  },
  {
   "cell_type": "code",
   "execution_count": 17,
   "metadata": {
    "colab": {
     "base_uri": "https://localhost:8080/"
    },
    "id": "l_uxKGEzfduq",
    "outputId": "8d1762b9-2252-45d3-a018-05fda8c45a46"
   },
   "outputs": [
    {
     "name": "stdout",
     "output_type": "stream",
     "text": [
      "Jumlah baris sebelum memfilter outlier: 12205\n",
      "Jumlah baris setelah memfilter outlier: 10020\n",
      "Persentase drop data outliers: 17.9%\n"
     ]
    }
   ],
   "source": [
    "# library: \n",
    "from scipy import stats\n",
    "\n",
    "z_score = df.copy()\n",
    "\n",
    "print(f'Jumlah baris sebelum memfilter outlier: {len(z_score)}')\n",
    "\n",
    "filtered_entries = np.array([True] * len(z_score))  # array kosong dengan nilai awal True\n",
    "for col in numericals:\n",
    "    zscore = abs(stats.zscore(df[col])) # hitung absolute z-scorenya\n",
    "    filtered_entries = (zscore < 3) & filtered_entries # keep yang kurang dari 3 absolute z-scorenya\n",
    "    \n",
    "z_score = z_score[filtered_entries] # filter, cuma ambil yang z-scorenya dibawah 3\n",
    "\n",
    "print(f'Jumlah baris setelah memfilter outlier: {len(z_score)}')\n",
    "print(f'Persentase drop data outliers: {round(((len(df)-len(z_score))/len(df))*100, 2)}%')"
   ]
  },
  {
   "cell_type": "code",
   "execution_count": 18,
   "metadata": {
    "colab": {
     "base_uri": "https://localhost:8080/"
    },
    "id": "IFR6joyrgzul",
    "outputId": "f70fdaa0-1cd8-46d0-e4c6-bfa6f1527043"
   },
   "outputs": [
    {
     "data": {
      "text/plain": [
       "Administrative                               27\n",
       "Administrative_Duration                 3398.75\n",
       "Informational                                24\n",
       "Informational_Duration                 2549.375\n",
       "ProductRelated                              705\n",
       "ProductRelated_Duration             63973.52223\n",
       "BounceRates                                 0.2\n",
       "ExitRates                                   0.2\n",
       "PageValues                           361.763742\n",
       "SpecialDay                                  1.0\n",
       "Month                                       Sep\n",
       "OperatingSystems                              8\n",
       "Browser                                      13\n",
       "Region                                        9\n",
       "TrafficType                                  20\n",
       "VisitorType                   Returning_Visitor\n",
       "Weekend                                    True\n",
       "Revenue                                    True\n",
       "log_Informational                      3.218876\n",
       "log_Informational_Duration             7.843996\n",
       "log_PageValues                         5.893752\n",
       "dtype: object"
      ]
     },
     "execution_count": 18,
     "metadata": {},
     "output_type": "execute_result"
    }
   ],
   "source": [
    "df.max()"
   ]
  },
  {
   "cell_type": "code",
   "execution_count": 19,
   "metadata": {
    "id": "kzl5IQo5hc6L"
   },
   "outputs": [],
   "source": [
    "# drop data hasil log transformation\n",
    "df = df.drop(columns = log).copy()"
   ]
  },
  {
   "cell_type": "markdown",
   "metadata": {
    "id": "ytQnzRIDCFUT"
   },
   "source": [
    "* Persentase outliers yang didrop (17.9% > 5%) sangat besar.\n",
    "* Tidak dilakukan drop outliers, sehingga jumlah row tetap 12205.\n",
    "* Hal tersebut juga didukung oleh informasi pada dataset yang diperoleh melalui google analytics. Pada nilai maksimumnya, nilai tersebut masih memiliki makna. Sebagai contoh pada Informational_Duration mungkin terjadi saat user/pengunjung membuka lalu membiarkan halaman tersebut tetap terbuka pada devicenya. Namun tentu, tidak dapat diketahui pasti status dari outlier yang terdapat pada data.\n",
    "* Adanya outliers pada data perlu menjadi catatan saat pemodelan. "
   ]
  },
  {
   "cell_type": "markdown",
   "metadata": {
    "id": "VF3nXNSKg4cV"
   },
   "source": [
    "## Feature Transformation"
   ]
  },
  {
   "cell_type": "markdown",
   "metadata": {
    "id": "Ic3bozcU7Fta"
   },
   "source": [
    "### Standardization"
   ]
  },
  {
   "cell_type": "code",
   "execution_count": 20,
   "metadata": {
    "colab": {
     "base_uri": "https://localhost:8080/",
     "height": 300
    },
    "id": "sRptqxp1zlsh",
    "outputId": "f47db063-3b67-4246-a8fe-64e416b32fa5"
   },
   "outputs": [
    {
     "data": {
      "text/html": [
       "<div>\n",
       "<style scoped>\n",
       "    .dataframe tbody tr th:only-of-type {\n",
       "        vertical-align: middle;\n",
       "    }\n",
       "\n",
       "    .dataframe tbody tr th {\n",
       "        vertical-align: top;\n",
       "    }\n",
       "\n",
       "    .dataframe thead th {\n",
       "        text-align: right;\n",
       "    }\n",
       "</style>\n",
       "<table border=\"1\" class=\"dataframe\">\n",
       "  <thead>\n",
       "    <tr style=\"text-align: right;\">\n",
       "      <th></th>\n",
       "      <th>Administrative</th>\n",
       "      <th>Administrative_Duration</th>\n",
       "      <th>Informational</th>\n",
       "      <th>Informational_Duration</th>\n",
       "      <th>ProductRelated</th>\n",
       "      <th>ProductRelated_Duration</th>\n",
       "      <th>BounceRates</th>\n",
       "      <th>ExitRates</th>\n",
       "      <th>PageValues</th>\n",
       "      <th>SpecialDay</th>\n",
       "    </tr>\n",
       "  </thead>\n",
       "  <tbody>\n",
       "    <tr>\n",
       "      <th>count</th>\n",
       "      <td>12205.000000</td>\n",
       "      <td>12205.000000</td>\n",
       "      <td>12205.000000</td>\n",
       "      <td>12205.000000</td>\n",
       "      <td>12205.000000</td>\n",
       "      <td>12205.000000</td>\n",
       "      <td>12205.000000</td>\n",
       "      <td>12205.000000</td>\n",
       "      <td>12205.000000</td>\n",
       "      <td>12205.000000</td>\n",
       "    </tr>\n",
       "    <tr>\n",
       "      <th>mean</th>\n",
       "      <td>2.338878</td>\n",
       "      <td>81.646331</td>\n",
       "      <td>0.508726</td>\n",
       "      <td>34.825454</td>\n",
       "      <td>32.045637</td>\n",
       "      <td>1206.982457</td>\n",
       "      <td>0.020370</td>\n",
       "      <td>0.041466</td>\n",
       "      <td>5.949574</td>\n",
       "      <td>0.061942</td>\n",
       "    </tr>\n",
       "    <tr>\n",
       "      <th>std</th>\n",
       "      <td>3.330436</td>\n",
       "      <td>177.491845</td>\n",
       "      <td>1.275617</td>\n",
       "      <td>141.424807</td>\n",
       "      <td>44.593649</td>\n",
       "      <td>1919.601400</td>\n",
       "      <td>0.045255</td>\n",
       "      <td>0.046163</td>\n",
       "      <td>18.653671</td>\n",
       "      <td>0.199666</td>\n",
       "    </tr>\n",
       "    <tr>\n",
       "      <th>min</th>\n",
       "      <td>0.000000</td>\n",
       "      <td>0.000000</td>\n",
       "      <td>0.000000</td>\n",
       "      <td>0.000000</td>\n",
       "      <td>0.000000</td>\n",
       "      <td>0.000000</td>\n",
       "      <td>0.000000</td>\n",
       "      <td>0.000000</td>\n",
       "      <td>0.000000</td>\n",
       "      <td>0.000000</td>\n",
       "    </tr>\n",
       "    <tr>\n",
       "      <th>25%</th>\n",
       "      <td>0.000000</td>\n",
       "      <td>0.000000</td>\n",
       "      <td>0.000000</td>\n",
       "      <td>0.000000</td>\n",
       "      <td>8.000000</td>\n",
       "      <td>193.000000</td>\n",
       "      <td>0.000000</td>\n",
       "      <td>0.014231</td>\n",
       "      <td>0.000000</td>\n",
       "      <td>0.000000</td>\n",
       "    </tr>\n",
       "    <tr>\n",
       "      <th>50%</th>\n",
       "      <td>1.000000</td>\n",
       "      <td>9.000000</td>\n",
       "      <td>0.000000</td>\n",
       "      <td>0.000000</td>\n",
       "      <td>18.000000</td>\n",
       "      <td>608.942857</td>\n",
       "      <td>0.002899</td>\n",
       "      <td>0.025000</td>\n",
       "      <td>0.000000</td>\n",
       "      <td>0.000000</td>\n",
       "    </tr>\n",
       "    <tr>\n",
       "      <th>75%</th>\n",
       "      <td>4.000000</td>\n",
       "      <td>94.700000</td>\n",
       "      <td>0.000000</td>\n",
       "      <td>0.000000</td>\n",
       "      <td>38.000000</td>\n",
       "      <td>1477.154762</td>\n",
       "      <td>0.016667</td>\n",
       "      <td>0.048529</td>\n",
       "      <td>0.000000</td>\n",
       "      <td>0.000000</td>\n",
       "    </tr>\n",
       "    <tr>\n",
       "      <th>max</th>\n",
       "      <td>27.000000</td>\n",
       "      <td>3398.750000</td>\n",
       "      <td>24.000000</td>\n",
       "      <td>2549.375000</td>\n",
       "      <td>705.000000</td>\n",
       "      <td>63973.522230</td>\n",
       "      <td>0.200000</td>\n",
       "      <td>0.200000</td>\n",
       "      <td>361.763742</td>\n",
       "      <td>1.000000</td>\n",
       "    </tr>\n",
       "  </tbody>\n",
       "</table>\n",
       "</div>"
      ],
      "text/plain": [
       "       Administrative  Administrative_Duration  Informational  \\\n",
       "count    12205.000000             12205.000000   12205.000000   \n",
       "mean         2.338878                81.646331       0.508726   \n",
       "std          3.330436               177.491845       1.275617   \n",
       "min          0.000000                 0.000000       0.000000   \n",
       "25%          0.000000                 0.000000       0.000000   \n",
       "50%          1.000000                 9.000000       0.000000   \n",
       "75%          4.000000                94.700000       0.000000   \n",
       "max         27.000000              3398.750000      24.000000   \n",
       "\n",
       "       Informational_Duration  ProductRelated  ProductRelated_Duration  \\\n",
       "count            12205.000000    12205.000000             12205.000000   \n",
       "mean                34.825454       32.045637              1206.982457   \n",
       "std                141.424807       44.593649              1919.601400   \n",
       "min                  0.000000        0.000000                 0.000000   \n",
       "25%                  0.000000        8.000000               193.000000   \n",
       "50%                  0.000000       18.000000               608.942857   \n",
       "75%                  0.000000       38.000000              1477.154762   \n",
       "max               2549.375000      705.000000             63973.522230   \n",
       "\n",
       "        BounceRates     ExitRates    PageValues    SpecialDay  \n",
       "count  12205.000000  12205.000000  12205.000000  12205.000000  \n",
       "mean       0.020370      0.041466      5.949574      0.061942  \n",
       "std        0.045255      0.046163     18.653671      0.199666  \n",
       "min        0.000000      0.000000      0.000000      0.000000  \n",
       "25%        0.000000      0.014231      0.000000      0.000000  \n",
       "50%        0.002899      0.025000      0.000000      0.000000  \n",
       "75%        0.016667      0.048529      0.000000      0.000000  \n",
       "max        0.200000      0.200000    361.763742      1.000000  "
      ]
     },
     "execution_count": 20,
     "metadata": {},
     "output_type": "execute_result"
    }
   ],
   "source": [
    "df[numericals].describe()"
   ]
  },
  {
   "cell_type": "code",
   "execution_count": 21,
   "metadata": {
    "id": "RDIf_qcR5spt"
   },
   "outputs": [],
   "source": [
    "# library\n",
    "from sklearn.preprocessing import StandardScaler#, MinMaxScaler\n",
    "\n",
    "# standardization data\n",
    "for i in numericals:\n",
    "  \n",
    "  # standardization\n",
    "  df[f'{i}_std'] = StandardScaler().fit_transform(df[i].values.reshape(len(df), 1))\n",
    "\n",
    "  # normalization data\n",
    "  #df[f'{i}_norm'] = MinMaxScaler().fit_transform(df[i].values.reshape(len(df), 1))"
   ]
  },
  {
   "cell_type": "code",
   "execution_count": 22,
   "metadata": {
    "colab": {
     "base_uri": "https://localhost:8080/",
     "height": 300
    },
    "id": "v5Lxr9O2su8Y",
    "outputId": "37654217-9916-4ab8-d207-4422773a9e3c"
   },
   "outputs": [
    {
     "data": {
      "text/html": [
       "<div>\n",
       "<style scoped>\n",
       "    .dataframe tbody tr th:only-of-type {\n",
       "        vertical-align: middle;\n",
       "    }\n",
       "\n",
       "    .dataframe tbody tr th {\n",
       "        vertical-align: top;\n",
       "    }\n",
       "\n",
       "    .dataframe thead th {\n",
       "        text-align: right;\n",
       "    }\n",
       "</style>\n",
       "<table border=\"1\" class=\"dataframe\">\n",
       "  <thead>\n",
       "    <tr style=\"text-align: right;\">\n",
       "      <th></th>\n",
       "      <th>Administrative</th>\n",
       "      <th>Administrative_Duration</th>\n",
       "      <th>Informational</th>\n",
       "      <th>Informational_Duration</th>\n",
       "      <th>ProductRelated</th>\n",
       "      <th>ProductRelated_Duration</th>\n",
       "      <th>BounceRates</th>\n",
       "      <th>ExitRates</th>\n",
       "      <th>PageValues</th>\n",
       "      <th>SpecialDay</th>\n",
       "      <th>...</th>\n",
       "      <th>Administrative_std</th>\n",
       "      <th>Administrative_Duration_std</th>\n",
       "      <th>Informational_std</th>\n",
       "      <th>Informational_Duration_std</th>\n",
       "      <th>ProductRelated_std</th>\n",
       "      <th>ProductRelated_Duration_std</th>\n",
       "      <th>BounceRates_std</th>\n",
       "      <th>ExitRates_std</th>\n",
       "      <th>PageValues_std</th>\n",
       "      <th>SpecialDay_std</th>\n",
       "    </tr>\n",
       "  </thead>\n",
       "  <tbody>\n",
       "    <tr>\n",
       "      <th>8624</th>\n",
       "      <td>0</td>\n",
       "      <td>0.0</td>\n",
       "      <td>0</td>\n",
       "      <td>0.0</td>\n",
       "      <td>4</td>\n",
       "      <td>73.500000</td>\n",
       "      <td>0.000000</td>\n",
       "      <td>0.050000</td>\n",
       "      <td>0.000000</td>\n",
       "      <td>0.0</td>\n",
       "      <td>...</td>\n",
       "      <td>-0.702302</td>\n",
       "      <td>-0.460019</td>\n",
       "      <td>-0.398824</td>\n",
       "      <td>-0.246257</td>\n",
       "      <td>-0.628941</td>\n",
       "      <td>-0.590502</td>\n",
       "      <td>-0.450137</td>\n",
       "      <td>0.184884</td>\n",
       "      <td>-0.318962</td>\n",
       "      <td>-0.310240</td>\n",
       "    </tr>\n",
       "    <tr>\n",
       "      <th>10138</th>\n",
       "      <td>0</td>\n",
       "      <td>0.0</td>\n",
       "      <td>0</td>\n",
       "      <td>0.0</td>\n",
       "      <td>4</td>\n",
       "      <td>156.500000</td>\n",
       "      <td>0.000000</td>\n",
       "      <td>0.050000</td>\n",
       "      <td>0.000000</td>\n",
       "      <td>0.0</td>\n",
       "      <td>...</td>\n",
       "      <td>-0.702302</td>\n",
       "      <td>-0.460019</td>\n",
       "      <td>-0.398824</td>\n",
       "      <td>-0.246257</td>\n",
       "      <td>-0.628941</td>\n",
       "      <td>-0.547262</td>\n",
       "      <td>-0.450137</td>\n",
       "      <td>0.184884</td>\n",
       "      <td>-0.318962</td>\n",
       "      <td>-0.310240</td>\n",
       "    </tr>\n",
       "    <tr>\n",
       "      <th>122</th>\n",
       "      <td>0</td>\n",
       "      <td>0.0</td>\n",
       "      <td>2</td>\n",
       "      <td>75.0</td>\n",
       "      <td>14</td>\n",
       "      <td>442.333333</td>\n",
       "      <td>0.000000</td>\n",
       "      <td>0.034375</td>\n",
       "      <td>0.000000</td>\n",
       "      <td>0.8</td>\n",
       "      <td>...</td>\n",
       "      <td>-0.702302</td>\n",
       "      <td>-0.460019</td>\n",
       "      <td>1.169109</td>\n",
       "      <td>0.284082</td>\n",
       "      <td>-0.404685</td>\n",
       "      <td>-0.398354</td>\n",
       "      <td>-0.450137</td>\n",
       "      <td>-0.153606</td>\n",
       "      <td>-0.318962</td>\n",
       "      <td>3.696611</td>\n",
       "    </tr>\n",
       "    <tr>\n",
       "      <th>3706</th>\n",
       "      <td>2</td>\n",
       "      <td>132.0</td>\n",
       "      <td>0</td>\n",
       "      <td>0.0</td>\n",
       "      <td>6</td>\n",
       "      <td>1564.000000</td>\n",
       "      <td>0.044444</td>\n",
       "      <td>0.066667</td>\n",
       "      <td>0.000000</td>\n",
       "      <td>0.0</td>\n",
       "      <td>...</td>\n",
       "      <td>-0.101756</td>\n",
       "      <td>0.283707</td>\n",
       "      <td>-0.398824</td>\n",
       "      <td>-0.246257</td>\n",
       "      <td>-0.584090</td>\n",
       "      <td>0.185993</td>\n",
       "      <td>0.531983</td>\n",
       "      <td>0.545941</td>\n",
       "      <td>-0.318962</td>\n",
       "      <td>-0.310240</td>\n",
       "    </tr>\n",
       "    <tr>\n",
       "      <th>9266</th>\n",
       "      <td>3</td>\n",
       "      <td>89.5</td>\n",
       "      <td>0</td>\n",
       "      <td>0.0</td>\n",
       "      <td>48</td>\n",
       "      <td>1572.200000</td>\n",
       "      <td>0.017687</td>\n",
       "      <td>0.038885</td>\n",
       "      <td>20.113927</td>\n",
       "      <td>0.0</td>\n",
       "      <td>...</td>\n",
       "      <td>0.198517</td>\n",
       "      <td>0.044250</td>\n",
       "      <td>-0.398824</td>\n",
       "      <td>-0.246257</td>\n",
       "      <td>0.357787</td>\n",
       "      <td>0.190265</td>\n",
       "      <td>-0.059293</td>\n",
       "      <td>-0.055896</td>\n",
       "      <td>0.759364</td>\n",
       "      <td>-0.310240</td>\n",
       "    </tr>\n",
       "  </tbody>\n",
       "</table>\n",
       "<p>5 rows × 28 columns</p>\n",
       "</div>"
      ],
      "text/plain": [
       "       Administrative  Administrative_Duration  Informational  \\\n",
       "8624                0                      0.0              0   \n",
       "10138               0                      0.0              0   \n",
       "122                 0                      0.0              2   \n",
       "3706                2                    132.0              0   \n",
       "9266                3                     89.5              0   \n",
       "\n",
       "       Informational_Duration  ProductRelated  ProductRelated_Duration  \\\n",
       "8624                      0.0               4                73.500000   \n",
       "10138                     0.0               4               156.500000   \n",
       "122                      75.0              14               442.333333   \n",
       "3706                      0.0               6              1564.000000   \n",
       "9266                      0.0              48              1572.200000   \n",
       "\n",
       "       BounceRates  ExitRates  PageValues  SpecialDay  ... Administrative_std  \\\n",
       "8624      0.000000   0.050000    0.000000         0.0  ...          -0.702302   \n",
       "10138     0.000000   0.050000    0.000000         0.0  ...          -0.702302   \n",
       "122       0.000000   0.034375    0.000000         0.8  ...          -0.702302   \n",
       "3706      0.044444   0.066667    0.000000         0.0  ...          -0.101756   \n",
       "9266      0.017687   0.038885   20.113927         0.0  ...           0.198517   \n",
       "\n",
       "       Administrative_Duration_std  Informational_std  \\\n",
       "8624                     -0.460019          -0.398824   \n",
       "10138                    -0.460019          -0.398824   \n",
       "122                      -0.460019           1.169109   \n",
       "3706                      0.283707          -0.398824   \n",
       "9266                      0.044250          -0.398824   \n",
       "\n",
       "       Informational_Duration_std  ProductRelated_std  \\\n",
       "8624                    -0.246257           -0.628941   \n",
       "10138                   -0.246257           -0.628941   \n",
       "122                      0.284082           -0.404685   \n",
       "3706                    -0.246257           -0.584090   \n",
       "9266                    -0.246257            0.357787   \n",
       "\n",
       "      ProductRelated_Duration_std  BounceRates_std  ExitRates_std  \\\n",
       "8624                    -0.590502        -0.450137       0.184884   \n",
       "10138                   -0.547262        -0.450137       0.184884   \n",
       "122                     -0.398354        -0.450137      -0.153606   \n",
       "3706                     0.185993         0.531983       0.545941   \n",
       "9266                     0.190265        -0.059293      -0.055896   \n",
       "\n",
       "       PageValues_std  SpecialDay_std  \n",
       "8624        -0.318962       -0.310240  \n",
       "10138       -0.318962       -0.310240  \n",
       "122         -0.318962        3.696611  \n",
       "3706        -0.318962       -0.310240  \n",
       "9266         0.759364       -0.310240  \n",
       "\n",
       "[5 rows x 28 columns]"
      ]
     },
     "execution_count": 22,
     "metadata": {},
     "output_type": "execute_result"
    }
   ],
   "source": [
    "df.sample(5)"
   ]
  },
  {
   "cell_type": "code",
   "execution_count": 23,
   "metadata": {
    "colab": {
     "base_uri": "https://localhost:8080/",
     "height": 660
    },
    "id": "WH1EiUoIPlOu",
    "outputId": "5e76aa39-5240-476f-a680-7330fbbac682"
   },
   "outputs": [
    {
     "data": {
      "image/png": "[encoded data removed]",
      "text/plain": [
       "<Figure size 1800x720 with 10 Axes>"
      ]
     },
     "metadata": {
      "needs_background": "light"
     },
     "output_type": "display_data"
    }
   ],
   "source": [
    "std = ['Administrative_std', 'Administrative_Duration_std', \n",
    "       'Informational_std', 'Informational_Duration_std',\n",
    "       'ProductRelated_std', 'ProductRelated_Duration_std',\n",
    "       'BounceRates_std', 'ExitRates_std', 'PageValues_std','SpecialDay_std']\n",
    "rcParams['figure.figsize'] = 25, 10\n",
    "for i in range (0, len (std)):\n",
    "  plt.subplot (4, 3, i+1)\n",
    "  sns.kdeplot (x = df[std[i]])\n",
    "  plt.tight_layout()"
   ]
  },
  {
   "cell_type": "code",
   "execution_count": 24,
   "metadata": {
    "colab": {
     "base_uri": "https://localhost:8080/",
     "height": 364
    },
    "id": "IKzBKSmGQvkb",
    "outputId": "5c5a13e3-8af5-4227-ab0c-ee450c3d897d"
   },
   "outputs": [
    {
     "data": {
      "text/html": [
       "<div>\n",
       "<style scoped>\n",
       "    .dataframe tbody tr th:only-of-type {\n",
       "        vertical-align: middle;\n",
       "    }\n",
       "\n",
       "    .dataframe tbody tr th {\n",
       "        vertical-align: top;\n",
       "    }\n",
       "\n",
       "    .dataframe thead th {\n",
       "        text-align: right;\n",
       "    }\n",
       "</style>\n",
       "<table border=\"1\" class=\"dataframe\">\n",
       "  <thead>\n",
       "    <tr style=\"text-align: right;\">\n",
       "      <th></th>\n",
       "      <th>Administrative_std</th>\n",
       "      <th>Administrative_Duration_std</th>\n",
       "      <th>Informational_std</th>\n",
       "      <th>Informational_Duration_std</th>\n",
       "      <th>ProductRelated_std</th>\n",
       "      <th>ProductRelated_Duration_std</th>\n",
       "      <th>BounceRates_std</th>\n",
       "      <th>ExitRates_std</th>\n",
       "      <th>PageValues_std</th>\n",
       "      <th>SpecialDay_std</th>\n",
       "    </tr>\n",
       "  </thead>\n",
       "  <tbody>\n",
       "    <tr>\n",
       "      <th>count</th>\n",
       "      <td>1.220500e+04</td>\n",
       "      <td>1.220500e+04</td>\n",
       "      <td>1.220500e+04</td>\n",
       "      <td>1.220500e+04</td>\n",
       "      <td>1.220500e+04</td>\n",
       "      <td>1.220500e+04</td>\n",
       "      <td>1.220500e+04</td>\n",
       "      <td>1.220500e+04</td>\n",
       "      <td>1.220500e+04</td>\n",
       "      <td>1.220500e+04</td>\n",
       "    </tr>\n",
       "    <tr>\n",
       "      <th>mean</th>\n",
       "      <td>-7.238963e-16</td>\n",
       "      <td>-1.978380e-15</td>\n",
       "      <td>5.958700e-15</td>\n",
       "      <td>1.815444e-15</td>\n",
       "      <td>-8.012526e-16</td>\n",
       "      <td>-4.081855e-16</td>\n",
       "      <td>-2.538831e-15</td>\n",
       "      <td>3.766299e-16</td>\n",
       "      <td>-3.137679e-15</td>\n",
       "      <td>-2.391687e-15</td>\n",
       "    </tr>\n",
       "    <tr>\n",
       "      <th>std</th>\n",
       "      <td>1.000041e+00</td>\n",
       "      <td>1.000041e+00</td>\n",
       "      <td>1.000041e+00</td>\n",
       "      <td>1.000041e+00</td>\n",
       "      <td>1.000041e+00</td>\n",
       "      <td>1.000041e+00</td>\n",
       "      <td>1.000041e+00</td>\n",
       "      <td>1.000041e+00</td>\n",
       "      <td>1.000041e+00</td>\n",
       "      <td>1.000041e+00</td>\n",
       "    </tr>\n",
       "    <tr>\n",
       "      <th>min</th>\n",
       "      <td>-7.023024e-01</td>\n",
       "      <td>-4.600193e-01</td>\n",
       "      <td>-3.988242e-01</td>\n",
       "      <td>-2.462572e-01</td>\n",
       "      <td>-7.186438e-01</td>\n",
       "      <td>-6.287930e-01</td>\n",
       "      <td>-4.501371e-01</td>\n",
       "      <td>-8.982857e-01</td>\n",
       "      <td>-3.189623e-01</td>\n",
       "      <td>-3.102396e-01</td>\n",
       "    </tr>\n",
       "    <tr>\n",
       "      <th>25%</th>\n",
       "      <td>-7.023024e-01</td>\n",
       "      <td>-4.600193e-01</td>\n",
       "      <td>-3.988242e-01</td>\n",
       "      <td>-2.462572e-01</td>\n",
       "      <td>-5.392387e-01</td>\n",
       "      <td>-5.282472e-01</td>\n",
       "      <td>-4.501371e-01</td>\n",
       "      <td>-5.899945e-01</td>\n",
       "      <td>-3.189623e-01</td>\n",
       "      <td>-3.102396e-01</td>\n",
       "    </tr>\n",
       "    <tr>\n",
       "      <th>50%</th>\n",
       "      <td>-4.020291e-01</td>\n",
       "      <td>-4.093107e-01</td>\n",
       "      <td>-3.988242e-01</td>\n",
       "      <td>-2.462572e-01</td>\n",
       "      <td>-3.149824e-01</td>\n",
       "      <td>-3.115564e-01</td>\n",
       "      <td>-3.860858e-01</td>\n",
       "      <td>-3.567007e-01</td>\n",
       "      <td>-3.189623e-01</td>\n",
       "      <td>-3.102396e-01</td>\n",
       "    </tr>\n",
       "    <tr>\n",
       "      <th>75%</th>\n",
       "      <td>4.987907e-01</td>\n",
       "      <td>7.354819e-02</td>\n",
       "      <td>-3.988242e-01</td>\n",
       "      <td>-2.462572e-01</td>\n",
       "      <td>1.335304e-01</td>\n",
       "      <td>1.407497e-01</td>\n",
       "      <td>-8.184213e-02</td>\n",
       "      <td>1.530263e-01</td>\n",
       "      <td>-3.189623e-01</td>\n",
       "      <td>-3.102396e-01</td>\n",
       "    </tr>\n",
       "    <tr>\n",
       "      <th>max</th>\n",
       "      <td>7.405076e+00</td>\n",
       "      <td>1.868953e+01</td>\n",
       "      <td>1.841638e+01</td>\n",
       "      <td>1.778084e+01</td>\n",
       "      <td>1.509143e+01</td>\n",
       "      <td>3.269903e+01</td>\n",
       "      <td>3.969402e+00</td>\n",
       "      <td>3.434394e+00</td>\n",
       "      <td>1.907553e+01</td>\n",
       "      <td>4.698324e+00</td>\n",
       "    </tr>\n",
       "  </tbody>\n",
       "</table>\n",
       "</div>"
      ],
      "text/plain": [
       "       Administrative_std  Administrative_Duration_std  Informational_std  \\\n",
       "count        1.220500e+04                 1.220500e+04       1.220500e+04   \n",
       "mean        -7.238963e-16                -1.978380e-15       5.958700e-15   \n",
       "std          1.000041e+00                 1.000041e+00       1.000041e+00   \n",
       "min         -7.023024e-01                -4.600193e-01      -3.988242e-01   \n",
       "25%         -7.023024e-01                -4.600193e-01      -3.988242e-01   \n",
       "50%         -4.020291e-01                -4.093107e-01      -3.988242e-01   \n",
       "75%          4.987907e-01                 7.354819e-02      -3.988242e-01   \n",
       "max          7.405076e+00                 1.868953e+01       1.841638e+01   \n",
       "\n",
       "       Informational_Duration_std  ProductRelated_std  \\\n",
       "count                1.220500e+04        1.220500e+04   \n",
       "mean                 1.815444e-15       -8.012526e-16   \n",
       "std                  1.000041e+00        1.000041e+00   \n",
       "min                 -2.462572e-01       -7.186438e-01   \n",
       "25%                 -2.462572e-01       -5.392387e-01   \n",
       "50%                 -2.462572e-01       -3.149824e-01   \n",
       "75%                 -2.462572e-01        1.335304e-01   \n",
       "max                  1.778084e+01        1.509143e+01   \n",
       "\n",
       "       ProductRelated_Duration_std  BounceRates_std  ExitRates_std  \\\n",
       "count                 1.220500e+04     1.220500e+04   1.220500e+04   \n",
       "mean                 -4.081855e-16    -2.538831e-15   3.766299e-16   \n",
       "std                   1.000041e+00     1.000041e+00   1.000041e+00   \n",
       "min                  -6.287930e-01    -4.501371e-01  -8.982857e-01   \n",
       "25%                  -5.282472e-01    -4.501371e-01  -5.899945e-01   \n",
       "50%                  -3.115564e-01    -3.860858e-01  -3.567007e-01   \n",
       "75%                   1.407497e-01    -8.184213e-02   1.530263e-01   \n",
       "max                   3.269903e+01     3.969402e+00   3.434394e+00   \n",
       "\n",
       "       PageValues_std  SpecialDay_std  \n",
       "count    1.220500e+04    1.220500e+04  \n",
       "mean    -3.137679e-15   -2.391687e-15  \n",
       "std      1.000041e+00    1.000041e+00  \n",
       "min     -3.189623e-01   -3.102396e-01  \n",
       "25%     -3.189623e-01   -3.102396e-01  \n",
       "50%     -3.189623e-01   -3.102396e-01  \n",
       "75%     -3.189623e-01   -3.102396e-01  \n",
       "max      1.907553e+01    4.698324e+00  "
      ]
     },
     "execution_count": 24,
     "metadata": {},
     "output_type": "execute_result"
    }
   ],
   "source": [
    "df[std].describe()"
   ]
  },
  {
   "cell_type": "code",
   "execution_count": 25,
   "metadata": {
    "id": "nqePYTUPSje8"
   },
   "outputs": [],
   "source": [
    "# dataset dengan std\n",
    "df_std = df.copy()\n",
    "\n",
    "# dataset tanpa kolom standardization (std)\n",
    "df = df.drop(columns = std).copy()"
   ]
  },
  {
   "cell_type": "markdown",
   "metadata": {
    "id": "u_4S7j9H_Kxt"
   },
   "source": [
    "## Feature Encoding"
   ]
  },
  {
   "cell_type": "markdown",
   "metadata": {
    "id": "Op15ZuPo_wZf"
   },
   "source": [
    "Pada dataset, terdapat:\n",
    "* 6 categoricals: Month, OperatingSystems, Browser, Region, TrafficType, dan VisitorType\n",
    "* 2 boolean: Weekend, Revenue\n",
    "\n",
    "Akan dilakukan:\n",
    "* Label encoding untuk Revenue dan Weekend (False: 0, True: 1)\n",
    "* One hot encoding untuk Visitor Type\n",
    "* (+ One hot encoding untuk OperationgSystems, Browser, Region, dan TrafficType)"
   ]
  },
  {
   "cell_type": "markdown",
   "metadata": {
    "id": "bTmJKycoB4SF"
   },
   "source": [
    "### Label Encoding (Revenue, Weekend)"
   ]
  },
  {
   "cell_type": "code",
   "execution_count": 26,
   "metadata": {
    "colab": {
     "base_uri": "https://localhost:8080/"
    },
    "id": "PpNnNUr6DZ4H",
    "outputId": "8977d774-7e4d-4c7e-b9a3-ad71d94c6ef2"
   },
   "outputs": [
    {
     "name": "stdout",
     "output_type": "stream",
     "text": [
      "<class 'pandas.core.frame.DataFrame'>\n",
      "Int64Index: 12205 entries, 0 to 12329\n",
      "Data columns (total 18 columns):\n",
      " #   Column                   Non-Null Count  Dtype  \n",
      "---  ------                   --------------  -----  \n",
      " 0   Administrative           12205 non-null  int64  \n",
      " 1   Administrative_Duration  12205 non-null  float64\n",
      " 2   Informational            12205 non-null  int64  \n",
      " 3   Informational_Duration   12205 non-null  float64\n",
      " 4   ProductRelated           12205 non-null  int64  \n",
      " 5   ProductRelated_Duration  12205 non-null  float64\n",
      " 6   BounceRates              12205 non-null  float64\n",
      " 7   ExitRates                12205 non-null  float64\n",
      " 8   PageValues               12205 non-null  float64\n",
      " 9   SpecialDay               12205 non-null  float64\n",
      " 10  Month                    12205 non-null  object \n",
      " 11  OperatingSystems         12205 non-null  int64  \n",
      " 12  Browser                  12205 non-null  int64  \n",
      " 13  Region                   12205 non-null  int64  \n",
      " 14  TrafficType              12205 non-null  int64  \n",
      " 15  VisitorType              12205 non-null  object \n",
      " 16  Weekend                  12205 non-null  bool   \n",
      " 17  Revenue                  12205 non-null  bool   \n",
      "dtypes: bool(2), float64(7), int64(7), object(2)\n",
      "memory usage: 1.9+ MB\n"
     ]
    }
   ],
   "source": [
    "df.info()"
   ]
  },
  {
   "cell_type": "code",
   "execution_count": 27,
   "metadata": {
    "id": "pSFyrTqkrf0A"
   },
   "outputs": [],
   "source": [
    "# library\n",
    "from sklearn.preprocessing import LabelEncoder, OneHotEncoder\n",
    "\n",
    "df['Revenue'] = LabelEncoder().fit_transform(df['Revenue'])\n",
    "df['Weekend'] = LabelEncoder().fit_transform(df['Weekend'])\n",
    "\n",
    "# label encoding for weekend (categorical: ordinal)\n",
    "mapping_month = {'Jan' : 1, 'Feb' : 2,\n",
    "                 'Mar' : 3, 'Apr' : 4,\n",
    "                 'May' : 5, 'June' : 6,\n",
    "                 'Jul' : 7, 'Aug' : 8,\n",
    "                 'Sep' : 9, 'Oct' : 10,\n",
    "                 'Nov' : 11, 'Dec' : 12}\n",
    "df['Month'] = df['Month'].map(mapping_month)"
   ]
  },
  {
   "cell_type": "markdown",
   "metadata": {
    "id": "47DVm7MOB7yd"
   },
   "source": [
    "### One Hot Encoding (VisitorType)"
   ]
  },
  {
   "cell_type": "code",
   "execution_count": 28,
   "metadata": {
    "id": "uQnppqeTCA_r"
   },
   "outputs": [],
   "source": [
    "# ubah feature VisitorType ke dalam feature dummies dengan prefix VT\n",
    "onehot = pd.get_dummies(df['VisitorType'], prefix = 'VT')\n",
    "df = df.join(onehot)\n",
    "\n",
    "# drop feature VisitorType\n",
    "df = df.drop(['VisitorType'], axis = 1)"
   ]
  },
  {
   "cell_type": "code",
   "execution_count": 29,
   "metadata": {
    "colab": {
     "base_uri": "https://localhost:8080/"
    },
    "id": "BT9VHZVFCMQJ",
    "outputId": "e6bc471f-19cc-41df-f9ff-d7166276881a"
   },
   "outputs": [
    {
     "name": "stdout",
     "output_type": "stream",
     "text": [
      "<class 'pandas.core.frame.DataFrame'>\n",
      "Int64Index: 12205 entries, 0 to 12329\n",
      "Data columns (total 20 columns):\n",
      " #   Column                   Non-Null Count  Dtype  \n",
      "---  ------                   --------------  -----  \n",
      " 0   Administrative           12205 non-null  int64  \n",
      " 1   Administrative_Duration  12205 non-null  float64\n",
      " 2   Informational            12205 non-null  int64  \n",
      " 3   Informational_Duration   12205 non-null  float64\n",
      " 4   ProductRelated           12205 non-null  int64  \n",
      " 5   ProductRelated_Duration  12205 non-null  float64\n",
      " 6   BounceRates              12205 non-null  float64\n",
      " 7   ExitRates                12205 non-null  float64\n",
      " 8   PageValues               12205 non-null  float64\n",
      " 9   SpecialDay               12205 non-null  float64\n",
      " 10  Month                    12205 non-null  int64  \n",
      " 11  OperatingSystems         12205 non-null  int64  \n",
      " 12  Browser                  12205 non-null  int64  \n",
      " 13  Region                   12205 non-null  int64  \n",
      " 14  TrafficType              12205 non-null  int64  \n",
      " 15  Weekend                  12205 non-null  int64  \n",
      " 16  Revenue                  12205 non-null  int64  \n",
      " 17  VT_New_Visitor           12205 non-null  uint8  \n",
      " 18  VT_Other                 12205 non-null  uint8  \n",
      " 19  VT_Returning_Visitor     12205 non-null  uint8  \n",
      "dtypes: float64(7), int64(10), uint8(3)\n",
      "memory usage: 2.0 MB\n"
     ]
    }
   ],
   "source": [
    "df.info()"
   ]
  },
  {
   "cell_type": "markdown",
   "metadata": {
    "id": "EmOO1sbUU-Di"
   },
   "source": [
    "### One Hot Encoding (OperatingSystems, Browser, Region, dan TrafficType) <br>\n",
    "Pada feature di atas, valuesnya merupakan bilang integer bulat yang masing-masing mewakilkan nilai categorical. Nilai tersebut tidak meiliki keurutan, sehingga untuk menghindari adanya penyalahartian saat pemodelan, dapat dilakukan one hot encoding."
   ]
  },
  {
   "cell_type": "code",
   "execution_count": 30,
   "metadata": {
    "id": "iXcYDNjYVYdN"
   },
   "outputs": [],
   "source": [
    "df_others = df.copy()"
   ]
  },
  {
   "cell_type": "code",
   "execution_count": 31,
   "metadata": {
    "colab": {
     "base_uri": "https://localhost:8080/"
    },
    "id": "L8AzF5c0VYSf",
    "outputId": "55ff53dc-5640-40e6-a42f-60be9eb4b2ef"
   },
   "outputs": [
    {
     "data": {
      "text/plain": [
       "OperatingSystems     8\n",
       "Browser             13\n",
       "Region               9\n",
       "TrafficType         20\n",
       "dtype: int64"
      ]
     },
     "execution_count": 31,
     "metadata": {},
     "output_type": "execute_result"
    }
   ],
   "source": [
    "others = ['OperatingSystems', 'Browser', 'Region', 'TrafficType']\n",
    "df[others].nunique()"
   ]
  },
  {
   "cell_type": "markdown",
   "metadata": {
    "id": "-Zh0jfzBb3pU"
   },
   "source": [
    "Keempat feature di atas memiliki nilai unique yang cukup banyak. Akan dilihat distribusi nilai unik untuk setiap featurenya."
   ]
  },
  {
   "cell_type": "code",
   "execution_count": 32,
   "metadata": {
    "colab": {
     "base_uri": "https://localhost:8080/"
    },
    "id": "vuGkt4wqb_0H",
    "outputId": "516224cb-9e87-4a47-bd7f-9e195ea1eae2"
   },
   "outputs": [
    {
     "name": "stdout",
     "output_type": "stream",
     "text": [
      "value count kolom OperatingSystems:\n",
      "2    6541\n",
      "1    2549\n",
      "3    2530\n",
      "Name: OperatingSystems, dtype: int64\n",
      "others: 4.79%\n",
      "\n",
      "value count kolom Browser:\n",
      "2    7883\n",
      "1    2427\n",
      "4     731\n",
      "Name: Browser, dtype: int64\n",
      "others: 9.54%\n",
      "\n",
      "value count kolom Region:\n",
      "1    4714\n",
      "3    2379\n",
      "4    1171\n",
      "Name: Region, dtype: int64\n",
      "others: 32.29%\n",
      "\n",
      "value count kolom TrafficType:\n",
      "2    3911\n",
      "1    2388\n",
      "3    2013\n",
      "Name: TrafficType, dtype: int64\n",
      "others: 31.9%\n",
      "\n"
     ]
    }
   ],
   "source": [
    "# persebaran feature 3 teratas\n",
    "sum = 0\n",
    "for col in others:\n",
    "    print(f'value count kolom {col}:')\n",
    "    print(df_others[col].value_counts().head(3))\n",
    "    sum = df_others[col].value_counts().head(3).sum()\n",
    "    print(f'others: {round(((len(df_others)-sum)/len(df_others))*100, 2)}%')\n",
    "    print()"
   ]
  },
  {
   "cell_type": "code",
   "execution_count": 33,
   "metadata": {
    "id": "HilZ8ntqqYXJ"
   },
   "outputs": [],
   "source": [
    "# membuat feature others untuk nilai unik dengan frekuensi kecil\n",
    "\n",
    "df_others['OperatingSystems'] = np.where(df_others['OperatingSystems'].isin([1, 2, 3]), df_others['OperatingSystems'], 'Others')\n",
    "df_others['Browser'] = np.where(df_others['Browser'].isin([1, 2]), df_others['Browser'], 'Others')\n",
    "# df_others['Region'] = np.where(df_others['Region'].isin([1, 2, 3, 4, 6, 7]), df_others['Region'], 'Others')\n",
    "# df_others['TrafficType'] = np.where(df_others['TrafficType'].isin([1, 2, 3, 4, 13, 10, 6]), df_others['TrafficType'], 'Others')"
   ]
  },
  {
   "cell_type": "markdown",
   "metadata": {
    "id": "zys7bCzmUloR"
   },
   "source": [
    "Feature Region dan TrafficType memiliki nilai unique beserta frekuensinya yang cukup banyak, sehingga apabila dilakukan pemisahan others, menjadi rancu. Sementara apabila dilakukan one hot encoding, akan menghasilkan jumlah kolom baru yang sangat banyak."
   ]
  },
  {
   "cell_type": "code",
   "execution_count": 34,
   "metadata": {
    "colab": {
     "base_uri": "https://localhost:8080/"
    },
    "id": "SnOEfiY5Y_is",
    "outputId": "e8793169-141a-4f6a-bdea-1d4143080e26"
   },
   "outputs": [
    {
     "name": "stdout",
     "output_type": "stream",
     "text": [
      "value count kolom OperatingSystems:\n",
      "2         6541\n",
      "1         2549\n",
      "3         2530\n",
      "Others     585\n",
      "Name: OperatingSystems, dtype: int64\n",
      "\n",
      "value count kolom Browser:\n",
      "2         7883\n",
      "1         2427\n",
      "Others    1895\n",
      "Name: Browser, dtype: int64\n",
      "\n"
     ]
    }
   ],
   "source": [
    "for col in ['OperatingSystems', 'Browser']:\n",
    "    print(f'value count kolom {col}:')\n",
    "    print(df_others[col].value_counts())\n",
    "    print()"
   ]
  },
  {
   "cell_type": "code",
   "execution_count": 35,
   "metadata": {
    "id": "gxEfZqyKavg6"
   },
   "outputs": [],
   "source": [
    "# one hot encoding untuk OperatingSystems, Browser\n",
    "for change in ['OperatingSystems', 'Browser']:\n",
    "  onehots = pd.get_dummies(df_others[change], prefix = change)\n",
    "  df_others = df_others.join(onehots)\n",
    "\n",
    "# drop kolom kategori yang asli (karena sudah di-encoding)\n",
    "df_others = df_others.drop(columns = ['OperatingSystems', 'Browser']).copy()"
   ]
  },
  {
   "cell_type": "code",
   "execution_count": 36,
   "metadata": {
    "colab": {
     "base_uri": "https://localhost:8080/"
    },
    "id": "zB6HWW_rd-TL",
    "outputId": "82552e6b-d3a3-490b-daa7-1940413676d6"
   },
   "outputs": [
    {
     "name": "stdout",
     "output_type": "stream",
     "text": [
      "<class 'pandas.core.frame.DataFrame'>\n",
      "Int64Index: 12205 entries, 0 to 12329\n",
      "Data columns (total 25 columns):\n",
      " #   Column                   Non-Null Count  Dtype  \n",
      "---  ------                   --------------  -----  \n",
      " 0   Administrative           12205 non-null  int64  \n",
      " 1   Administrative_Duration  12205 non-null  float64\n",
      " 2   Informational            12205 non-null  int64  \n",
      " 3   Informational_Duration   12205 non-null  float64\n",
      " 4   ProductRelated           12205 non-null  int64  \n",
      " 5   ProductRelated_Duration  12205 non-null  float64\n",
      " 6   BounceRates              12205 non-null  float64\n",
      " 7   ExitRates                12205 non-null  float64\n",
      " 8   PageValues               12205 non-null  float64\n",
      " 9   SpecialDay               12205 non-null  float64\n",
      " 10  Month                    12205 non-null  int64  \n",
      " 11  Region                   12205 non-null  int64  \n",
      " 12  TrafficType              12205 non-null  int64  \n",
      " 13  Weekend                  12205 non-null  int64  \n",
      " 14  Revenue                  12205 non-null  int64  \n",
      " 15  VT_New_Visitor           12205 non-null  uint8  \n",
      " 16  VT_Other                 12205 non-null  uint8  \n",
      " 17  VT_Returning_Visitor     12205 non-null  uint8  \n",
      " 18  OperatingSystems_1       12205 non-null  uint8  \n",
      " 19  OperatingSystems_2       12205 non-null  uint8  \n",
      " 20  OperatingSystems_3       12205 non-null  uint8  \n",
      " 21  OperatingSystems_Others  12205 non-null  uint8  \n",
      " 22  Browser_1                12205 non-null  uint8  \n",
      " 23  Browser_2                12205 non-null  uint8  \n",
      " 24  Browser_Others           12205 non-null  uint8  \n",
      "dtypes: float64(7), int64(8), uint8(10)\n",
      "memory usage: 1.9 MB\n"
     ]
    }
   ],
   "source": [
    "df_others.info()"
   ]
  },
  {
   "cell_type": "markdown",
   "metadata": {
    "id": "8dPZf33LAV_u"
   },
   "source": [
    "## Class Imbalance"
   ]
  },
  {
   "cell_type": "code",
   "execution_count": 37,
   "metadata": {
    "colab": {
     "base_uri": "https://localhost:8080/"
    },
    "id": "1J_1pvEyfL8d",
    "outputId": "fd47b838-1da8-471a-9baf-1f69c3a6059e"
   },
   "outputs": [
    {
     "name": "stdout",
     "output_type": "stream",
     "text": [
      "<class 'pandas.core.frame.DataFrame'>\n",
      "Int64Index: 12205 entries, 0 to 12329\n",
      "Data columns (total 20 columns):\n",
      " #   Column                   Non-Null Count  Dtype  \n",
      "---  ------                   --------------  -----  \n",
      " 0   Administrative           12205 non-null  int64  \n",
      " 1   Administrative_Duration  12205 non-null  float64\n",
      " 2   Informational            12205 non-null  int64  \n",
      " 3   Informational_Duration   12205 non-null  float64\n",
      " 4   ProductRelated           12205 non-null  int64  \n",
      " 5   ProductRelated_Duration  12205 non-null  float64\n",
      " 6   BounceRates              12205 non-null  float64\n",
      " 7   ExitRates                12205 non-null  float64\n",
      " 8   PageValues               12205 non-null  float64\n",
      " 9   SpecialDay               12205 non-null  float64\n",
      " 10  Month                    12205 non-null  int64  \n",
      " 11  OperatingSystems         12205 non-null  int64  \n",
      " 12  Browser                  12205 non-null  int64  \n",
      " 13  Region                   12205 non-null  int64  \n",
      " 14  TrafficType              12205 non-null  int64  \n",
      " 15  Weekend                  12205 non-null  int64  \n",
      " 16  Revenue                  12205 non-null  int64  \n",
      " 17  VT_New_Visitor           12205 non-null  uint8  \n",
      " 18  VT_Other                 12205 non-null  uint8  \n",
      " 19  VT_Returning_Visitor     12205 non-null  uint8  \n",
      "dtypes: float64(7), int64(10), uint8(3)\n",
      "memory usage: 2.0 MB\n"
     ]
    }
   ],
   "source": [
    "df_processed = df.copy()\n",
    "df_processed.info()"
   ]
  },
  {
   "cell_type": "code",
   "execution_count": 38,
   "metadata": {
    "colab": {
     "base_uri": "https://localhost:8080/"
    },
    "id": "RnxXQH8hARZd",
    "outputId": "65b8f375-f01c-4246-bc90-95fc157297ca"
   },
   "outputs": [
    {
     "data": {
      "text/plain": [
       "0    84.367063\n",
       "1    15.632937\n",
       "Name: Revenue, dtype: float64"
      ]
     },
     "execution_count": 38,
     "metadata": {},
     "output_type": "execute_result"
    }
   ],
   "source": [
    "# persentase nilai target\n",
    "df_processed.Revenue.value_counts(normalize = True)*100"
   ]
  },
  {
   "cell_type": "markdown",
   "metadata": {
    "id": "86D8Qw-FGWrA"
   },
   "source": [
    "Proporsi dari feature Revenue 84.4% : 15.6%. <br>\n",
    "Degree of imbalance: Moderate"
   ]
  },
  {
   "cell_type": "code",
   "execution_count": 39,
   "metadata": {
    "id": "qc4cXmuBHMY-"
   },
   "outputs": [],
   "source": [
    "# library\n",
    "from imblearn import under_sampling,over_sampling\n",
    "\n",
    "def balance (df):\n",
    "  X = df.drop(['Revenue'], axis = 1) # features\n",
    "  Y = df['Revenue'] # label\n",
    "  \n",
    "  # imbalance before\n",
    "  print('BEFORE imbalance hamdling')\n",
    "  print(pd.Series(Y).value_counts())\n",
    "  print('')\n",
    "\n",
    "  # undersampling\n",
    "  X_under, Y_under = under_sampling.RandomUnderSampler().fit_resample(X, Y)\n",
    "  print('AFTER undersampling')\n",
    "  print(pd.Series(Y_under).value_counts())\n",
    "  print('')\n",
    "\n",
    "  # oversampling\n",
    "  X_over, Y_over = over_sampling.RandomOverSampler().fit_resample(X, Y)\n",
    "  print('AFTER oversampling')\n",
    "  print(pd.Series(Y_over).value_counts())\n",
    "  print('')\n",
    "\n",
    "  # smote (oversampling)\n",
    "  X_over_smote, Y_over_smote = over_sampling.SMOTE().fit_resample(X, Y)\n",
    "  print('AFTER oversampling (smote)')\n",
    "  print(pd.Series(Y_over_smote).value_counts())"
   ]
  },
  {
   "cell_type": "markdown",
   "metadata": {
    "id": "YnijsrDfulrS"
   },
   "source": [
    "* Data hasil cleaning: df_processed\n",
    "* Dilakukan imbalance handling melalui 3 cara:\n",
    "> * undersampling: X_under, Y_under\n",
    "> * oversampling: X_over, Y_over\n",
    "> * oversampling (smote): X_over_smote, Y_over_smote"
   ]
  },
  {
   "cell_type": "code",
   "execution_count": 40,
   "metadata": {
    "colab": {
     "base_uri": "https://localhost:8080/"
    },
    "id": "fQenyo3kjaUz",
    "outputId": "e2365d70-046a-433a-bd42-20a0bf92f723",
    "scrolled": true
   },
   "outputs": [
    {
     "name": "stdout",
     "output_type": "stream",
     "text": [
      "BEFORE imbalance hamdling\n",
      "0    10297\n",
      "1     1908\n",
      "Name: Revenue, dtype: int64\n",
      "\n",
      "AFTER undersampling\n",
      "0    1908\n",
      "1    1908\n",
      "Name: Revenue, dtype: int64\n",
      "\n",
      "AFTER oversampling\n",
      "0    10297\n",
      "1    10297\n",
      "Name: Revenue, dtype: int64\n",
      "\n",
      "AFTER oversampling (smote)\n",
      "0    10297\n",
      "1    10297\n",
      "Name: Revenue, dtype: int64\n"
     ]
    }
   ],
   "source": [
    "# handling imbalance df\n",
    "balance(df_processed)\n",
    "\n",
    "# dataset: df_others (feature OperatingSystems dan Browser diencode)\n",
    "# balance(df_others)"
   ]
  },
  {
   "cell_type": "markdown",
   "metadata": {
    "id": "CaScR8aEnnBj"
   },
   "source": [
    "Dari ketiga data balancing di atas, penggunaan SMOTE (synthetic minority oversampling technique) lebih dipilih.\n",
    "* undersampling: data observasi menjadi sangat sedikit (banyak data yang terbuang)\n",
    "* oversampling: akan menimbulkan data redundan\n",
    "Pada pemodelan berikutnya, akan diperiksa lebih lanjut mengenai balancing data yang lebih baik."
   ]
  },
  {
   "cell_type": "markdown",
   "metadata": {},
   "source": [
    "# Feature Engineering"
   ]
  },
  {
   "cell_type": "code",
   "execution_count": 41,
   "metadata": {},
   "outputs": [
    {
     "data": {
      "text/plain": [
       "array([0. , 0.4, 0.8, 1. , 0.2, 0.6])"
      ]
     },
     "execution_count": 41,
     "metadata": {},
     "output_type": "execute_result"
    }
   ],
   "source": [
    "df['SpecialDay'].unique()"
   ]
  },
  {
   "cell_type": "code",
   "execution_count": 42,
   "metadata": {
    "scrolled": true
   },
   "outputs": [
    {
     "data": {
      "text/html": [
       "<div>\n",
       "<style scoped>\n",
       "    .dataframe tbody tr th:only-of-type {\n",
       "        vertical-align: middle;\n",
       "    }\n",
       "\n",
       "    .dataframe tbody tr th {\n",
       "        vertical-align: top;\n",
       "    }\n",
       "\n",
       "    .dataframe thead th {\n",
       "        text-align: right;\n",
       "    }\n",
       "</style>\n",
       "<table border=\"1\" class=\"dataframe\">\n",
       "  <thead>\n",
       "    <tr style=\"text-align: right;\">\n",
       "      <th></th>\n",
       "      <th>Administrative</th>\n",
       "      <th>Administrative_Duration</th>\n",
       "      <th>Informational</th>\n",
       "      <th>Informational_Duration</th>\n",
       "      <th>ProductRelated</th>\n",
       "      <th>ProductRelated_Duration</th>\n",
       "      <th>ExitRates</th>\n",
       "      <th>PageValues</th>\n",
       "      <th>SpecialDay</th>\n",
       "      <th>Month</th>\n",
       "      <th>Weekend</th>\n",
       "      <th>Revenue</th>\n",
       "      <th>VT_New_Visitor</th>\n",
       "      <th>VT_Other</th>\n",
       "      <th>VT_Returning_Visitor</th>\n",
       "    </tr>\n",
       "  </thead>\n",
       "  <tbody>\n",
       "    <tr>\n",
       "      <th>0</th>\n",
       "      <td>0</td>\n",
       "      <td>0.0</td>\n",
       "      <td>0</td>\n",
       "      <td>0.0</td>\n",
       "      <td>1</td>\n",
       "      <td>0.000000</td>\n",
       "      <td>0.20</td>\n",
       "      <td>0.0</td>\n",
       "      <td>0.0</td>\n",
       "      <td>2</td>\n",
       "      <td>0</td>\n",
       "      <td>0</td>\n",
       "      <td>0</td>\n",
       "      <td>0</td>\n",
       "      <td>1</td>\n",
       "    </tr>\n",
       "    <tr>\n",
       "      <th>1</th>\n",
       "      <td>0</td>\n",
       "      <td>0.0</td>\n",
       "      <td>0</td>\n",
       "      <td>0.0</td>\n",
       "      <td>2</td>\n",
       "      <td>64.000000</td>\n",
       "      <td>0.10</td>\n",
       "      <td>0.0</td>\n",
       "      <td>0.0</td>\n",
       "      <td>2</td>\n",
       "      <td>0</td>\n",
       "      <td>0</td>\n",
       "      <td>0</td>\n",
       "      <td>0</td>\n",
       "      <td>1</td>\n",
       "    </tr>\n",
       "    <tr>\n",
       "      <th>2</th>\n",
       "      <td>0</td>\n",
       "      <td>0.0</td>\n",
       "      <td>0</td>\n",
       "      <td>0.0</td>\n",
       "      <td>1</td>\n",
       "      <td>0.000000</td>\n",
       "      <td>0.20</td>\n",
       "      <td>0.0</td>\n",
       "      <td>0.0</td>\n",
       "      <td>2</td>\n",
       "      <td>0</td>\n",
       "      <td>0</td>\n",
       "      <td>0</td>\n",
       "      <td>0</td>\n",
       "      <td>1</td>\n",
       "    </tr>\n",
       "    <tr>\n",
       "      <th>3</th>\n",
       "      <td>0</td>\n",
       "      <td>0.0</td>\n",
       "      <td>0</td>\n",
       "      <td>0.0</td>\n",
       "      <td>2</td>\n",
       "      <td>2.666667</td>\n",
       "      <td>0.14</td>\n",
       "      <td>0.0</td>\n",
       "      <td>0.0</td>\n",
       "      <td>2</td>\n",
       "      <td>0</td>\n",
       "      <td>0</td>\n",
       "      <td>0</td>\n",
       "      <td>0</td>\n",
       "      <td>1</td>\n",
       "    </tr>\n",
       "    <tr>\n",
       "      <th>4</th>\n",
       "      <td>0</td>\n",
       "      <td>0.0</td>\n",
       "      <td>0</td>\n",
       "      <td>0.0</td>\n",
       "      <td>10</td>\n",
       "      <td>627.500000</td>\n",
       "      <td>0.05</td>\n",
       "      <td>0.0</td>\n",
       "      <td>0.0</td>\n",
       "      <td>2</td>\n",
       "      <td>1</td>\n",
       "      <td>0</td>\n",
       "      <td>0</td>\n",
       "      <td>0</td>\n",
       "      <td>1</td>\n",
       "    </tr>\n",
       "  </tbody>\n",
       "</table>\n",
       "</div>"
      ],
      "text/plain": [
       "   Administrative  Administrative_Duration  Informational  \\\n",
       "0               0                      0.0              0   \n",
       "1               0                      0.0              0   \n",
       "2               0                      0.0              0   \n",
       "3               0                      0.0              0   \n",
       "4               0                      0.0              0   \n",
       "\n",
       "   Informational_Duration  ProductRelated  ProductRelated_Duration  ExitRates  \\\n",
       "0                     0.0               1                 0.000000       0.20   \n",
       "1                     0.0               2                64.000000       0.10   \n",
       "2                     0.0               1                 0.000000       0.20   \n",
       "3                     0.0               2                 2.666667       0.14   \n",
       "4                     0.0              10               627.500000       0.05   \n",
       "\n",
       "   PageValues  SpecialDay  Month  Weekend  Revenue  VT_New_Visitor  VT_Other  \\\n",
       "0         0.0         0.0      2        0        0               0         0   \n",
       "1         0.0         0.0      2        0        0               0         0   \n",
       "2         0.0         0.0      2        0        0               0         0   \n",
       "3         0.0         0.0      2        0        0               0         0   \n",
       "4         0.0         0.0      2        1        0               0         0   \n",
       "\n",
       "   VT_Returning_Visitor  \n",
       "0                     1  \n",
       "1                     1  \n",
       "2                     1  \n",
       "3                     1  \n",
       "4                     1  "
      ]
     },
     "execution_count": 42,
     "metadata": {},
     "output_type": "execute_result"
    }
   ],
   "source": [
    "df_2 = df.drop(['OperatingSystems', 'Browser', 'Region', 'TrafficType', 'BounceRates'], axis=1)\n",
    "df_2.head()"
   ]
  },
  {
   "cell_type": "code",
   "execution_count": 43,
   "metadata": {},
   "outputs": [],
   "source": [
    "df_2['ATP_Administrative'] = df_2['Administrative_Duration']/df_2['Administrative']\n",
    "df_2['ATP_Informational'] = df_2['Informational_Duration']/df_2['Informational']\n",
    "df_2['ATP_ProductRelated'] = df_2['ProductRelated_Duration']/df_2['ProductRelated']"
   ]
  },
  {
   "cell_type": "code",
   "execution_count": 44,
   "metadata": {},
   "outputs": [
    {
     "data": {
      "text/html": [
       "<div>\n",
       "<style scoped>\n",
       "    .dataframe tbody tr th:only-of-type {\n",
       "        vertical-align: middle;\n",
       "    }\n",
       "\n",
       "    .dataframe tbody tr th {\n",
       "        vertical-align: top;\n",
       "    }\n",
       "\n",
       "    .dataframe thead th {\n",
       "        text-align: right;\n",
       "    }\n",
       "</style>\n",
       "<table border=\"1\" class=\"dataframe\">\n",
       "  <thead>\n",
       "    <tr style=\"text-align: right;\">\n",
       "      <th></th>\n",
       "      <th>Administrative</th>\n",
       "      <th>Administrative_Duration</th>\n",
       "      <th>Informational</th>\n",
       "      <th>Informational_Duration</th>\n",
       "      <th>ProductRelated</th>\n",
       "      <th>ProductRelated_Duration</th>\n",
       "      <th>ExitRates</th>\n",
       "      <th>PageValues</th>\n",
       "      <th>SpecialDay</th>\n",
       "      <th>Month</th>\n",
       "      <th>Weekend</th>\n",
       "      <th>Revenue</th>\n",
       "      <th>VT_New_Visitor</th>\n",
       "      <th>VT_Other</th>\n",
       "      <th>VT_Returning_Visitor</th>\n",
       "      <th>ATP_Administrative</th>\n",
       "      <th>ATP_Informational</th>\n",
       "      <th>ATP_ProductRelated</th>\n",
       "    </tr>\n",
       "  </thead>\n",
       "  <tbody>\n",
       "    <tr>\n",
       "      <th>11711</th>\n",
       "      <td>0</td>\n",
       "      <td>0.0</td>\n",
       "      <td>0</td>\n",
       "      <td>0.0</td>\n",
       "      <td>12</td>\n",
       "      <td>166.083333</td>\n",
       "      <td>0.025000</td>\n",
       "      <td>0.000000</td>\n",
       "      <td>0.0</td>\n",
       "      <td>11</td>\n",
       "      <td>1</td>\n",
       "      <td>0</td>\n",
       "      <td>0</td>\n",
       "      <td>0</td>\n",
       "      <td>1</td>\n",
       "      <td>NaN</td>\n",
       "      <td>NaN</td>\n",
       "      <td>13.840278</td>\n",
       "    </tr>\n",
       "    <tr>\n",
       "      <th>1855</th>\n",
       "      <td>8</td>\n",
       "      <td>387.6</td>\n",
       "      <td>3</td>\n",
       "      <td>32.0</td>\n",
       "      <td>328</td>\n",
       "      <td>9694.260714</td>\n",
       "      <td>0.010905</td>\n",
       "      <td>6.467832</td>\n",
       "      <td>0.0</td>\n",
       "      <td>3</td>\n",
       "      <td>0</td>\n",
       "      <td>0</td>\n",
       "      <td>0</td>\n",
       "      <td>0</td>\n",
       "      <td>1</td>\n",
       "      <td>48.45</td>\n",
       "      <td>10.666667</td>\n",
       "      <td>29.555673</td>\n",
       "    </tr>\n",
       "    <tr>\n",
       "      <th>2673</th>\n",
       "      <td>2</td>\n",
       "      <td>97.0</td>\n",
       "      <td>0</td>\n",
       "      <td>0.0</td>\n",
       "      <td>23</td>\n",
       "      <td>418.233333</td>\n",
       "      <td>0.008000</td>\n",
       "      <td>0.000000</td>\n",
       "      <td>0.0</td>\n",
       "      <td>5</td>\n",
       "      <td>0</td>\n",
       "      <td>0</td>\n",
       "      <td>0</td>\n",
       "      <td>0</td>\n",
       "      <td>1</td>\n",
       "      <td>48.50</td>\n",
       "      <td>NaN</td>\n",
       "      <td>18.184058</td>\n",
       "    </tr>\n",
       "    <tr>\n",
       "      <th>5676</th>\n",
       "      <td>1</td>\n",
       "      <td>0.0</td>\n",
       "      <td>0</td>\n",
       "      <td>0.0</td>\n",
       "      <td>12</td>\n",
       "      <td>277.450000</td>\n",
       "      <td>0.090000</td>\n",
       "      <td>0.000000</td>\n",
       "      <td>0.0</td>\n",
       "      <td>6</td>\n",
       "      <td>0</td>\n",
       "      <td>0</td>\n",
       "      <td>0</td>\n",
       "      <td>0</td>\n",
       "      <td>1</td>\n",
       "      <td>0.00</td>\n",
       "      <td>NaN</td>\n",
       "      <td>23.120833</td>\n",
       "    </tr>\n",
       "    <tr>\n",
       "      <th>10192</th>\n",
       "      <td>0</td>\n",
       "      <td>0.0</td>\n",
       "      <td>0</td>\n",
       "      <td>0.0</td>\n",
       "      <td>4</td>\n",
       "      <td>60.500000</td>\n",
       "      <td>0.150000</td>\n",
       "      <td>0.000000</td>\n",
       "      <td>0.0</td>\n",
       "      <td>11</td>\n",
       "      <td>0</td>\n",
       "      <td>0</td>\n",
       "      <td>0</td>\n",
       "      <td>0</td>\n",
       "      <td>1</td>\n",
       "      <td>NaN</td>\n",
       "      <td>NaN</td>\n",
       "      <td>15.125000</td>\n",
       "    </tr>\n",
       "  </tbody>\n",
       "</table>\n",
       "</div>"
      ],
      "text/plain": [
       "       Administrative  Administrative_Duration  Informational  \\\n",
       "11711               0                      0.0              0   \n",
       "1855                8                    387.6              3   \n",
       "2673                2                     97.0              0   \n",
       "5676                1                      0.0              0   \n",
       "10192               0                      0.0              0   \n",
       "\n",
       "       Informational_Duration  ProductRelated  ProductRelated_Duration  \\\n",
       "11711                     0.0              12               166.083333   \n",
       "1855                     32.0             328              9694.260714   \n",
       "2673                      0.0              23               418.233333   \n",
       "5676                      0.0              12               277.450000   \n",
       "10192                     0.0               4                60.500000   \n",
       "\n",
       "       ExitRates  PageValues  SpecialDay  Month  Weekend  Revenue  \\\n",
       "11711   0.025000    0.000000         0.0     11        1        0   \n",
       "1855    0.010905    6.467832         0.0      3        0        0   \n",
       "2673    0.008000    0.000000         0.0      5        0        0   \n",
       "5676    0.090000    0.000000         0.0      6        0        0   \n",
       "10192   0.150000    0.000000         0.0     11        0        0   \n",
       "\n",
       "       VT_New_Visitor  VT_Other  VT_Returning_Visitor  ATP_Administrative  \\\n",
       "11711               0         0                     1                 NaN   \n",
       "1855                0         0                     1               48.45   \n",
       "2673                0         0                     1               48.50   \n",
       "5676                0         0                     1                0.00   \n",
       "10192               0         0                     1                 NaN   \n",
       "\n",
       "       ATP_Informational  ATP_ProductRelated  \n",
       "11711                NaN           13.840278  \n",
       "1855           10.666667           29.555673  \n",
       "2673                 NaN           18.184058  \n",
       "5676                 NaN           23.120833  \n",
       "10192                NaN           15.125000  "
      ]
     },
     "execution_count": 44,
     "metadata": {},
     "output_type": "execute_result"
    }
   ],
   "source": [
    "df_2.sample(5)"
   ]
  },
  {
   "cell_type": "code",
   "execution_count": 45,
   "metadata": {},
   "outputs": [],
   "source": [
    "df_3= df_2.drop(['Administrative', 'Informational', 'ProductRelated', 'Administrative_Duration', 'Informational_Duration', 'ProductRelated_Duration'], axis=1)"
   ]
  },
  {
   "cell_type": "code",
   "execution_count": 46,
   "metadata": {},
   "outputs": [],
   "source": [
    "df_3['ATP_Administrative'] = df_3['ATP_Administrative'].fillna(0)\n",
    "df_3['ATP_Informational'] = df_3['ATP_Informational'].fillna(0)\n",
    "df_3['ATP_ProductRelated'] = df_3['ATP_ProductRelated'].fillna(0)"
   ]
  },
  {
   "cell_type": "code",
   "execution_count": 47,
   "metadata": {},
   "outputs": [
    {
     "data": {
      "text/html": [
       "<div>\n",
       "<style scoped>\n",
       "    .dataframe tbody tr th:only-of-type {\n",
       "        vertical-align: middle;\n",
       "    }\n",
       "\n",
       "    .dataframe tbody tr th {\n",
       "        vertical-align: top;\n",
       "    }\n",
       "\n",
       "    .dataframe thead th {\n",
       "        text-align: right;\n",
       "    }\n",
       "</style>\n",
       "<table border=\"1\" class=\"dataframe\">\n",
       "  <thead>\n",
       "    <tr style=\"text-align: right;\">\n",
       "      <th></th>\n",
       "      <th>ExitRates</th>\n",
       "      <th>PageValues</th>\n",
       "      <th>SpecialDay</th>\n",
       "      <th>Month</th>\n",
       "      <th>Weekend</th>\n",
       "      <th>Revenue</th>\n",
       "      <th>VT_New_Visitor</th>\n",
       "      <th>VT_Other</th>\n",
       "      <th>VT_Returning_Visitor</th>\n",
       "      <th>ATP_Administrative</th>\n",
       "      <th>ATP_Informational</th>\n",
       "      <th>ATP_ProductRelated</th>\n",
       "    </tr>\n",
       "  </thead>\n",
       "  <tbody>\n",
       "    <tr>\n",
       "      <th>0</th>\n",
       "      <td>0.20</td>\n",
       "      <td>0.0</td>\n",
       "      <td>0.0</td>\n",
       "      <td>2</td>\n",
       "      <td>0</td>\n",
       "      <td>0</td>\n",
       "      <td>0</td>\n",
       "      <td>0</td>\n",
       "      <td>1</td>\n",
       "      <td>0.0</td>\n",
       "      <td>0.0</td>\n",
       "      <td>0.000000</td>\n",
       "    </tr>\n",
       "    <tr>\n",
       "      <th>1</th>\n",
       "      <td>0.10</td>\n",
       "      <td>0.0</td>\n",
       "      <td>0.0</td>\n",
       "      <td>2</td>\n",
       "      <td>0</td>\n",
       "      <td>0</td>\n",
       "      <td>0</td>\n",
       "      <td>0</td>\n",
       "      <td>1</td>\n",
       "      <td>0.0</td>\n",
       "      <td>0.0</td>\n",
       "      <td>32.000000</td>\n",
       "    </tr>\n",
       "    <tr>\n",
       "      <th>2</th>\n",
       "      <td>0.20</td>\n",
       "      <td>0.0</td>\n",
       "      <td>0.0</td>\n",
       "      <td>2</td>\n",
       "      <td>0</td>\n",
       "      <td>0</td>\n",
       "      <td>0</td>\n",
       "      <td>0</td>\n",
       "      <td>1</td>\n",
       "      <td>0.0</td>\n",
       "      <td>0.0</td>\n",
       "      <td>0.000000</td>\n",
       "    </tr>\n",
       "    <tr>\n",
       "      <th>3</th>\n",
       "      <td>0.14</td>\n",
       "      <td>0.0</td>\n",
       "      <td>0.0</td>\n",
       "      <td>2</td>\n",
       "      <td>0</td>\n",
       "      <td>0</td>\n",
       "      <td>0</td>\n",
       "      <td>0</td>\n",
       "      <td>1</td>\n",
       "      <td>0.0</td>\n",
       "      <td>0.0</td>\n",
       "      <td>1.333333</td>\n",
       "    </tr>\n",
       "    <tr>\n",
       "      <th>4</th>\n",
       "      <td>0.05</td>\n",
       "      <td>0.0</td>\n",
       "      <td>0.0</td>\n",
       "      <td>2</td>\n",
       "      <td>1</td>\n",
       "      <td>0</td>\n",
       "      <td>0</td>\n",
       "      <td>0</td>\n",
       "      <td>1</td>\n",
       "      <td>0.0</td>\n",
       "      <td>0.0</td>\n",
       "      <td>62.750000</td>\n",
       "    </tr>\n",
       "  </tbody>\n",
       "</table>\n",
       "</div>"
      ],
      "text/plain": [
       "   ExitRates  PageValues  SpecialDay  Month  Weekend  Revenue  VT_New_Visitor  \\\n",
       "0       0.20         0.0         0.0      2        0        0               0   \n",
       "1       0.10         0.0         0.0      2        0        0               0   \n",
       "2       0.20         0.0         0.0      2        0        0               0   \n",
       "3       0.14         0.0         0.0      2        0        0               0   \n",
       "4       0.05         0.0         0.0      2        1        0               0   \n",
       "\n",
       "   VT_Other  VT_Returning_Visitor  ATP_Administrative  ATP_Informational  \\\n",
       "0         0                     1                 0.0                0.0   \n",
       "1         0                     1                 0.0                0.0   \n",
       "2         0                     1                 0.0                0.0   \n",
       "3         0                     1                 0.0                0.0   \n",
       "4         0                     1                 0.0                0.0   \n",
       "\n",
       "   ATP_ProductRelated  \n",
       "0            0.000000  \n",
       "1           32.000000  \n",
       "2            0.000000  \n",
       "3            1.333333  \n",
       "4           62.750000  "
      ]
     },
     "execution_count": 47,
     "metadata": {},
     "output_type": "execute_result"
    }
   ],
   "source": [
    "df_3.head()"
   ]
  },
  {
   "cell_type": "markdown",
   "metadata": {},
   "source": [
    "Additional Feature: membership duration, favourite category, item bought per month, item bought in price per month"
   ]
  }
 ],
 "metadata": {
  "colab": {
   "provenance": [],
   "toc_visible": true
  },
  "kernelspec": {
   "display_name": "Python 3",
   "language": "python",
   "name": "python3"
  },
  "language_info": {
   "codemirror_mode": {
    "name": "ipython",
    "version": 3
   },
   "file_extension": ".py",
   "mimetype": "text/x-python",
   "name": "python",
   "nbconvert_exporter": "python",
   "pygments_lexer": "ipython3",
   "version": "3.8.8"
  }
 },
 "nbformat": 4,
 "nbformat_minor": 1
}
